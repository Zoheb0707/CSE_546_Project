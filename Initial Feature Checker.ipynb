{
 "cells": [
  {
   "cell_type": "code",
   "execution_count": 1,
   "metadata": {},
   "outputs": [],
   "source": [
    "import pandas as pd\n",
    "import warnings\n",
    "import matplotlib.pyplot as plt\n",
    "from math import log\n",
    "#warnings.filterwarnings('ignore')"
   ]
  },
  {
   "cell_type": "code",
   "execution_count": 2,
   "metadata": {},
   "outputs": [],
   "source": [
    "placement_train_data = pd.read_csv(filepath_or_buffer = 'Data/placement_data_to_use.csv')\n",
    "demographics_train_data = pd.read_csv(filepath_or_buffer='Data/demographics_data_to_use.csv')"
   ]
  },
  {
   "cell_type": "code",
   "execution_count": 3,
   "metadata": {},
   "outputs": [],
   "source": [
    "placement_train_data.drop(['Ad set name','Date'], axis=1, inplace = True)\n",
    "demographics_train_data.drop(['Ad set name','Date'], axis=1, inplace = True)"
   ]
  },
  {
   "cell_type": "code",
   "execution_count": 4,
   "metadata": {},
   "outputs": [],
   "source": [
    "'''\n",
    "Converting age from catagorical to numeric variable\n",
    "'''\n",
    "demographics_train_data['Age'] = demographics_train_data['Age'].map({'65+': '65-85','18-24':'18-24',\n",
    "                 '25-34':'25-34','35-44':'35-44','45-54':'45-54','55-64':'55-64',\n",
    "                 '13-17':'13-17'})\n",
    "\n",
    "low = []\n",
    "high = []\n",
    "for i in demographics_train_data['Age']:\n",
    "    low.append(int(i[0:2]))\n",
    "    high.append(int(i[3:5]))\n",
    "demographics_train_data['low_age'] = low\n",
    "demographics_train_data['high_age'] = high\n",
    "demographics_train_data.drop(['Age'], axis=1, inplace=True)"
   ]
  },
  {
   "cell_type": "code",
   "execution_count": 5,
   "metadata": {},
   "outputs": [],
   "source": [
    "'''\n",
    "One hot encoding\n",
    "'''\n",
    "def one_hot(data):\n",
    "    for col_name in data.columns:\n",
    "        if(data[col_name].dtype == 'object'):\n",
    "            one_hot = pd.get_dummies(data[col_name])\n",
    "            data.drop([col_name], axis = 1, inplace = True)\n",
    "            data = data.join(one_hot)\n",
    "    return data\n",
    "\n",
    "placement_train_data = one_hot(placement_train_data)\n",
    "demographics_train_data = one_hot(demographics_train_data)"
   ]
  },
  {
   "cell_type": "code",
   "execution_count": 6,
   "metadata": {},
   "outputs": [],
   "source": [
    "demographics_train_with_feature = demographics_train_data\n",
    "demographics_train_without_feature = demographics_train_data.drop('Total investment',axis=1)\n",
    "\n",
    "placement_train_with_feature = placement_train_data\n",
    "placement_train_without_feature = placement_train_data.drop('Total investment',axis=1)"
   ]
  },
  {
   "cell_type": "code",
   "execution_count": 7,
   "metadata": {},
   "outputs": [],
   "source": [
    "'''\n",
    "train, validation split\n",
    "'''\n",
    "demographics_with_val_data = demographics_train_with_feature[int(len(demographics_train_with_feature)*0.7):]\n",
    "demographics_with_train_data = demographics_train_with_feature[:int(len(demographics_train_with_feature)*0.7)]\n",
    "\n",
    "placement_with_val_data = placement_train_with_feature[int(len(placement_train_with_feature)*0.7):]\n",
    "placement_with_train_data = placement_train_with_feature[:int(len(placement_train_with_feature)*0.7)]\n",
    "\n",
    "demographics_without_val_data = demographics_train_without_feature[int(len(demographics_train_without_feature)*0.7):]\n",
    "demographics_without_train_data = demographics_train_without_feature[:int(len(demographics_train_without_feature)*0.7)]\n",
    "\n",
    "placement_without_val_data = placement_train_without_feature[int(len(placement_train_without_feature)*0.7):]\n",
    "placement_without_train_data = placement_train_without_feature[:int(len(placement_train_without_feature)*0.7)]"
   ]
  },
  {
   "cell_type": "code",
   "execution_count": 8,
   "metadata": {},
   "outputs": [],
   "source": [
    "'''\n",
    "Splitting data into X,Y\n",
    "'''\n",
    "placement_train_with_Y = placement_with_train_data['Ad revenue']\n",
    "placement_train_with_X = placement_with_train_data.drop('Ad revenue',axis=1)\n",
    "\n",
    "demographics_train_with_Y = demographics_with_train_data['Ad revenue']\n",
    "demographics_train_with_X = demographics_with_train_data.drop('Ad revenue',axis=1)\n",
    "\n",
    "placement_val_with_Y = placement_with_val_data['Ad revenue']\n",
    "placement_val_with_X = placement_with_val_data.drop('Ad revenue',axis=1)\n",
    "\n",
    "demographics_val_with_Y = demographics_with_val_data['Ad revenue']\n",
    "demographics_val_with_X = demographics_with_val_data.drop('Ad revenue',axis=1)\n",
    "\n",
    "\n",
    "\n",
    "placement_train_without_Y = placement_without_train_data['Ad revenue']\n",
    "placement_train_without_X = placement_without_train_data.drop('Ad revenue',axis=1)\n",
    "\n",
    "demographics_train_without_Y = demographics_without_train_data['Ad revenue']\n",
    "demographics_train_without_X = demographics_without_train_data.drop('Ad revenue',axis=1)\n",
    "\n",
    "placement_val_without_Y = placement_without_val_data['Ad revenue']\n",
    "placement_val_without_X = placement_without_val_data.drop('Ad revenue',axis=1)\n",
    "\n",
    "demographics_val_without_Y = demographics_without_val_data['Ad revenue']\n",
    "demographics_val_without_X = demographics_without_val_data.drop('Ad revenue',axis=1)"
   ]
  },
  {
   "cell_type": "code",
   "execution_count": 9,
   "metadata": {},
   "outputs": [
    {
     "data": {
      "text/plain": [
       "(2508,)"
      ]
     },
     "execution_count": 9,
     "metadata": {},
     "output_type": "execute_result"
    }
   ],
   "source": [
    "placement_train_without_Y.shape"
   ]
  },
  {
   "cell_type": "code",
   "execution_count": 10,
   "metadata": {},
   "outputs": [],
   "source": [
    "'''\n",
    "Finds RMSE\n",
    "'''\n",
    "def RMSE(y_predicted,y):\n",
    "    n = len(y_predicted)\n",
    "    diff = [m - n for m,n in zip(y_predicted,y)]\n",
    "    diff = [x**2 for x in diff]\n",
    "    diff = sum(diff)\n",
    "    diff = diff/n\n",
    "    diff = diff**0.5\n",
    "    return diff"
   ]
  },
  {
   "cell_type": "code",
   "execution_count": 15,
   "metadata": {},
   "outputs": [
    {
     "name": "stdout",
     "output_type": "stream",
     "text": [
      "Placement RMSE with feature is: 17310.39421285701\n",
      "Demographics RMSE with feature is: 10605.074034148593\n",
      "Placement RMSE without feature is: 17831.47784399221\n",
      "Demographics RMSE without feature is: 10611.811722854558\n"
     ]
    }
   ],
   "source": [
    "'''\n",
    "Check which feature is better using linear regression\n",
    "'''\n",
    "\n",
    "from sklearn.linear_model import LinearRegression\n",
    "\n",
    "Model = LinearRegression()\n",
    "\n",
    "Model.fit(placement_train_with_X,placement_train_with_Y)\n",
    "print('Placement RMSE with feature is: ' + str(RMSE(Model.predict(placement_train_with_X),placement_train_with_Y)))\n",
    "\n",
    "Model.fit(demographics_train_with_X,demographics_train_with_Y)\n",
    "print('Demographics RMSE with feature is: ' + str(RMSE(Model.predict(demographics_train_with_X),demographics_train_with_Y)))\n",
    "\n",
    "Model.fit(placement_train_without_X,placement_train_without_Y)\n",
    "print('Placement RMSE without feature is: ' + str(RMSE(Model.predict(placement_train_without_X),placement_train_without_Y)))\n",
    "\n",
    "Model.fit(demographics_train_without_X,demographics_train_without_Y)\n",
    "print('Demographics RMSE without feature is: ' + str(RMSE(Model.predict(demographics_train_without_X),demographics_train_without_Y)))"
   ]
  }
 ],
 "metadata": {
  "kernelspec": {
   "display_name": "Python 3",
   "language": "python",
   "name": "python3"
  },
  "language_info": {
   "codemirror_mode": {
    "name": "ipython",
    "version": 3
   },
   "file_extension": ".py",
   "mimetype": "text/x-python",
   "name": "python",
   "nbconvert_exporter": "python",
   "pygments_lexer": "ipython3",
   "version": "3.6.5"
  }
 },
 "nbformat": 4,
 "nbformat_minor": 2
}
