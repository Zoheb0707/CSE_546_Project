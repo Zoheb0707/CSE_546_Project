{
 "cells": [
  {
   "cell_type": "code",
   "execution_count": 3,
   "metadata": {},
   "outputs": [],
   "source": [
    "import pandas as pd"
   ]
  },
  {
   "cell_type": "code",
   "execution_count": 4,
   "metadata": {},
   "outputs": [],
   "source": [
    "demographics_data = pd.read_csv(filepath_or_buffer = 'demographics_data_to_use.csv')\n",
    "placement_data = pd.read_csv(filepath_or_buffer = 'placement_data_to_use.csv')"
   ]
  },
  {
   "cell_type": "code",
   "execution_count": 5,
   "metadata": {},
   "outputs": [],
   "source": [
    "demographics_data['Ad revenue'] = demographics_data['Return on ad spend (ROAS)']*demographics_data['Amount spent (USD)']\n",
    "demographics_data.drop('Return on ad spend (ROAS)',axis=1,inplace=True)\n",
    "placement_data['Ad revenue'] = placement_data['Return on ad spend (ROAS)']*placement_data['Amount spent (USD)']\n",
    "placement_data.drop('Return on ad spend (ROAS)',axis=1,inplace=True)"
   ]
  },
  {
   "cell_type": "code",
   "execution_count": 8,
   "metadata": {},
   "outputs": [],
   "source": [
    "demographics_data.to_csv(path_or_buf = 'demographics_data_to_use.csv', index=False)\n",
    "placement_data.to_csv(path_or_buf = 'placement_data_to_use.csv', index=False)"
   ]
  }
 ],
 "metadata": {
  "kernelspec": {
   "display_name": "Python 3",
   "language": "python",
   "name": "python3"
  },
  "language_info": {
   "codemirror_mode": {
    "name": "ipython",
    "version": 3
   },
   "file_extension": ".py",
   "mimetype": "text/x-python",
   "name": "python",
   "nbconvert_exporter": "python",
   "pygments_lexer": "ipython3",
   "version": "3.6.5"
  }
 },
 "nbformat": 4,
 "nbformat_minor": 2
}
