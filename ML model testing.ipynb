{
 "cells": [
  {
   "cell_type": "code",
   "execution_count": 1,
   "metadata": {},
   "outputs": [],
   "source": [
    "import pandas as pd\n",
    "import warnings\n",
    "import matplotlib.pyplot as plt\n",
    "from math import log\n",
    "#warnings.filterwarnings('ignore')"
   ]
  },
  {
   "cell_type": "code",
   "execution_count": 3,
   "metadata": {},
   "outputs": [],
   "source": [
    "placement_train_data = pd.read_csv(filepath_or_buffer = 'Data/corrected_placement_train.csv')\n",
    "placement_test_data = pd.read_csv(filepath_or_buffer = 'Data/corrected_placement_test.csv')\n",
    "demographics_train_data = pd.read_csv(filepath_or_buffer='Data/corrected_demographics_train.csv')\n",
    "demographics_test_data = pd.read_csv(filepath_or_buffer='Data/corrected_demographics_test.csv')"
   ]
  },
  {
   "cell_type": "code",
   "execution_count": 6,
   "metadata": {},
   "outputs": [],
   "source": [
    "demographics_train_data.drop(['Ad set name','Date'], axis=1, inplace = True)\n",
    "demographics_test_data.drop(['Ad set name','Date'], axis=1, inplace = True)"
   ]
  },
  {
   "cell_type": "code",
   "execution_count": 7,
   "metadata": {},
   "outputs": [],
   "source": [
    "placement_train_data.drop(['Ad set name', 'Placement', 'Date'], axis=1, inplace = True)\n",
    "placement_test_data.drop(['Ad set name', 'Placement', 'Date'], axis=1, inplace = True)"
   ]
  },
  {
   "cell_type": "code",
   "execution_count": 13,
   "metadata": {},
   "outputs": [],
   "source": [
    "'''\n",
    "Converting age from catagorical to numeric variable\n",
    "'''\n",
    "demographics_train_data['Age'] = demographics_train_data['Age'].map({'65+': '65-85','18-24':'18-24',\n",
    "                 '25-34':'25-34','35-44':'35-44','45-54':'45-54','55-64':'55-64',\n",
    "                 '13-17':'13-17'})\n",
    "\n",
    "demographics_test_data['Age'] = demographics_test_data['Age'].map({'65+': '65-85','18-24':'18-24',\n",
    "                 '25-34':'25-34','35-44':'35-44','45-54':'45-54','55-64':'55-64',\n",
    "                 '13-17':'13-17'})\n",
    "\n",
    "low = []\n",
    "high = []\n",
    "for i in demographics_train_data['Age']:\n",
    "    low.append(int(i[0:2]))\n",
    "    high.append(int(i[3:5]))\n",
    "demographics_train_data['low_age'] = low\n",
    "demographics_train_data['high_age'] = high\n",
    "demographics_train_data.drop(['Age'], axis=1, inplace=True)\n",
    "\n",
    "low = []\n",
    "high = []\n",
    "for i in demographics_test_data['Age']:\n",
    "    low.append(int(i[0:2]))\n",
    "    high.append(int(i[3:5]))\n",
    "demographics_test_data['low_age'] = low\n",
    "demographics_test_data['high_age'] = high\n",
    "demographics_test_data.drop(['Age'], axis=1, inplace=True)"
   ]
  },
  {
   "cell_type": "code",
   "execution_count": 18,
   "metadata": {},
   "outputs": [],
   "source": [
    "'''\n",
    "One hot encoding\n",
    "'''\n",
    "def one_hot(data):\n",
    "    for col_name in data.columns:\n",
    "        if(data[col_name].dtype == 'object'):\n",
    "            one_hot = pd.get_dummies(data[col_name])\n",
    "            data.drop([col_name], axis = 1, inplace = True)\n",
    "            data = data.join(one_hot)\n",
    "    return data\n",
    "\n",
    "placement_train_data = one_hot(placement_train_data)\n",
    "demographics_train_data = one_hot(demographics_train_data)\n",
    "\n",
    "demographics_test_data = one_hot(demographics_test_data)\n",
    "placement_test_data = one_hot(placement_test_data)"
   ]
  },
  {
   "cell_type": "code",
   "execution_count": 20,
   "metadata": {},
   "outputs": [],
   "source": [
    "'''\n",
    "train, validation split\n",
    "'''\n",
    "demographics_val_data = demographics_train_data[int(len(demographics_train_data)*0.8):]\n",
    "demographics_train_data = demographics_train_data[:int(len(demographics_train_data)*0.8)]\n",
    "\n",
    "placement_val_data = demographics_train_data[int(len(placement_train_data)*0.8):]\n",
    "placement_train_data = demographics_train_data[:int(len(placement_train_data)*0.8)]"
   ]
  },
  {
   "cell_type": "code",
   "execution_count": 22,
   "metadata": {},
   "outputs": [],
   "source": [
    "'''\n",
    "Splitting data into X,Y\n",
    "'''\n",
    "placement_train_Y = placement_train_data['Return on ad spend (ROAS)']\n",
    "placement_train_X = placement_train_data.drop('Return on ad spend (ROAS)',axis=1)\n",
    "\n",
    "demographics_train_Y = demographics_train_data['Return on ad spend (ROAS)']\n",
    "demographics_train_X = demographics_train_data.drop('Return on ad spend (ROAS)',axis=1)\n",
    "\n",
    "placement_val_Y = placement_val_data['Return on ad spend (ROAS)']\n",
    "placement_val_X = placement_val_data.drop('Return on ad spend (ROAS)',axis=1)\n",
    "\n",
    "demographics_val_Y = demographics_val_data['Return on ad spend (ROAS)']\n",
    "demographics_val_X = demographics_val_data.drop('Return on ad spend (ROAS)',axis=1)\n",
    "\n",
    "placement_test_Y = placement_test_data['Return on ad spend (ROAS)']\n",
    "placement_test_X = placement_test_data.drop('Return on ad spend (ROAS)',axis=1)\n",
    "\n",
    "demographics_test_Y = demographics_test_data['Return on ad spend (ROAS)']\n",
    "demographics_test_X = demographics_test_data.drop('Return on ad spend (ROAS)',axis=1)"
   ]
  },
  {
   "cell_type": "code",
   "execution_count": null,
   "metadata": {},
   "outputs": [],
   "source": [
    "'''\n",
    "Decided not to use K-fold CV as data is temporal.\n",
    "'''"
   ]
  },
  {
   "cell_type": "code",
   "execution_count": 23,
   "metadata": {},
   "outputs": [],
   "source": [
    "'''\n",
    "Finds RMSE\n",
    "'''\n",
    "def RMSE(y_predicted,y):\n",
    "    n = len(y_predicted)\n",
    "    diff = [m - n for m,n in zip(y_predicted,y)]\n",
    "    diff = [x**2 for x in diff]\n",
    "    diff = sum(diff)\n",
    "    diff = diff/n\n",
    "    diff = diff**0.5\n",
    "    return diff"
   ]
  },
  {
   "cell_type": "code",
   "execution_count": null,
   "metadata": {},
   "outputs": [],
   "source": [
    "'''\n",
    "We can conclude that the feature added improves predictions. Thus, we shall use it.\n",
    "'''"
   ]
  },
  {
   "cell_type": "code",
   "execution_count": 27,
   "metadata": {},
   "outputs": [
    {
     "data": {
      "image/png": "[encoded data removed]",
      "text/plain": [
       "<Figure size 432x288 with 1 Axes>"
      ]
     },
     "metadata": {},
     "output_type": "display_data"
    },
    {
     "name": "stdout",
     "output_type": "stream",
     "text": [
      "best placement lasso rmse: 0.7992624321903127\n",
      "best demographics lasso rmse: 4.693500228388826\n"
     ]
    },
    {
     "data": {
      "image/png": "[encoded data removed]",
      "text/plain": [
       "<Figure size 432x288 with 1 Axes>"
      ]
     },
     "metadata": {},
     "output_type": "display_data"
    }
   ],
   "source": [
    "'''\n",
    "Test lasso regression\n",
    "'''\n",
    "from sklearn.linear_model import Lasso\n",
    "\n",
    "placement_train_rmse_list = []\n",
    "placement_val_rmse_list = []\n",
    "demographics_train_rmse_list = []\n",
    "demographics_val_rmse_list = []\n",
    "\n",
    "lambda_list = [10,100,1000,10000,100000,1000000,10000000,100000000,1000000000,10000000000]\n",
    "\n",
    "best_placement_lasso_model = None\n",
    "best_placement_lasso_R_sq = -float('Inf')\n",
    "best_placement_lasso_rmse = float('Inf')\n",
    "\n",
    "best_demographics_lasso_model = None\n",
    "best_demographics_lasso_R_sq = -float('Inf')\n",
    "best_demographics_lasso_rmse = float('Inf')\n",
    "\n",
    "for l in lambda_list:\n",
    "    Lasso_Model = Lasso(alpha=l,max_iter = 100000)\n",
    "    \n",
    "    Lasso_Model.fit(placement_train_X,placement_train_Y)\n",
    "    current_placement_R_sq = Lasso_Model.score(placement_train_X,placement_train_Y)\n",
    "    current_placement_train_rmse = RMSE(Lasso_Model.predict(placement_train_X),placement_train_Y)\n",
    "    current_placement_val_rmse = RMSE(Lasso_Model.predict(placement_val_X),placement_val_Y)\n",
    "    placement_train_rmse_list.append(current_placement_train_rmse)\n",
    "    placement_val_rmse_list.append(current_placement_val_rmse)\n",
    "    \n",
    "    if current_placement_val_rmse < best_placement_lasso_rmse:\n",
    "        best_placement_lasso_model = Lasso_Model\n",
    "        best_placement_lasso_R_sq = current_placement_R_sq\n",
    "        best_placement_lasso_rmse = current_placement_val_rmse\n",
    "    \n",
    "    Lasso_Model.fit(demographics_train_X,demographics_train_Y)\n",
    "    current_demographics_R_sq = Lasso_Model.score(demographics_train_X,demographics_train_Y)\n",
    "    current_demographics_train_rmse = RMSE(Lasso_Model.predict(demographics_train_X),demographics_train_Y)\n",
    "    current_demographics_val_rmse = RMSE(Lasso_Model.predict(demographics_val_X),demographics_val_Y)\n",
    "    demographics_train_rmse_list.append(current_demographics_train_rmse)\n",
    "    demographics_val_rmse_list.append(current_demographics_val_rmse)\n",
    "    \n",
    "    if current_demographics_val_rmse < best_demographics_lasso_rmse:\n",
    "        best_demographics_lasso_model = Lasso_Model\n",
    "        best_demographics_lasso_R_sq = current_demographics_R_sq\n",
    "        best_demographics_lasso_rmse = current_demographics_val_rmse\n",
    "        \n",
    "lambda_list = [log(x,10) for x in lambda_list]\n",
    "plt.plot(lambda_list,placement_train_rmse_list,label = 'placement train',color = 'red')\n",
    "plt.plot(lambda_list,placement_val_rmse_list,label = 'placement val', color = 'orange')\n",
    "plt.xlabel('Log Lambda values')\n",
    "plt.ylabel('Error Values')\n",
    "plt.title('Trends in training and validation errors for placement data')\n",
    "plt.legend(loc='upper left')\n",
    "plt.show()\n",
    "print('best placement lasso rmse: ' + str(best_placement_lasso_rmse))\n",
    "print('best demographics lasso rmse: ' + str(best_demographics_lasso_rmse))\n",
    "plt.figure()\n",
    "plt.plot(lambda_list,demographics_train_rmse_list,label = 'demographics train',color = 'red')\n",
    "plt.plot(lambda_list,demographics_val_rmse_list,label = 'demographics val', color = 'orange')\n",
    "plt.xlabel('Log Lambda values')\n",
    "plt.ylabel('Error Values')\n",
    "plt.title('Trends in training and validation errors for demographics data')\n",
    "plt.legend(loc='upper left')\n",
    "plt.show()"
   ]
  },
  {
   "cell_type": "code",
   "execution_count": 25,
   "metadata": {},
   "outputs": [
    {
     "data": {
      "text/plain": [
       "Lasso(alpha=10, copy_X=True, fit_intercept=True, max_iter=100000,\n",
       "   normalize=False, positive=False, precompute=False, random_state=None,\n",
       "   selection='cyclic', tol=0.0001, warm_start=False)"
      ]
     },
     "execution_count": 25,
     "metadata": {},
     "output_type": "execute_result"
    }
   ],
   "source": [
    "best_placement_lasso_model"
   ]
  },
  {
   "cell_type": "code",
   "execution_count": 28,
   "metadata": {},
   "outputs": [
    {
     "data": {
      "image/png": "[encoded data removed]",
      "text/plain": [
       "<Figure size 432x288 with 1 Axes>"
      ]
     },
     "metadata": {},
     "output_type": "display_data"
    },
    {
     "data": {
      "image/png": "[encoded data removed]",
      "text/plain": [
       "<Figure size 432x288 with 1 Axes>"
      ]
     },
     "metadata": {},
     "output_type": "display_data"
    },
    {
     "name": "stdout",
     "output_type": "stream",
     "text": [
      "best placement ridge rmse: 0.795742145009419\n",
      "best demographics ridge rmse: 4.6941792384151295\n"
     ]
    }
   ],
   "source": [
    "'''\n",
    "Test ridge regression\n",
    "'''\n",
    "from sklearn.linear_model import Ridge\n",
    "\n",
    "placement_train_rmse_list = []\n",
    "placement_val_rmse_list = []\n",
    "demographics_train_rmse_list = []\n",
    "demographics_val_rmse_list = []\n",
    "\n",
    "lambda_list = [1,100,1000,10000,100000,1000000,10000000,100000000,1000000000]\n",
    "\n",
    "best_ridge_lasso_model = None\n",
    "best_placement_ridge_R_sq = -float('Inf')\n",
    "best_placement_ridge_rmse = float('Inf')\n",
    "\n",
    "best_demographics_ridge_model = None\n",
    "best_demographics_ridge_R_sq = -float('Inf')\n",
    "best_demographics_ridge_rmse = float('Inf')\n",
    "\n",
    "for l in lambda_list:\n",
    "    Ridge_Model = Ridge(alpha=l,max_iter = 100000)\n",
    "    \n",
    "    Ridge_Model.fit(placement_train_X,placement_train_Y)\n",
    "    current_placement_R_sq = Ridge_Model.score(placement_train_X,placement_train_Y)\n",
    "    current_placement_train_rmse = RMSE(Ridge_Model.predict(placement_train_X),placement_train_Y)\n",
    "    current_placement_val_rmse = RMSE(Ridge_Model.predict(placement_val_X),placement_val_Y)\n",
    "    placement_train_rmse_list.append(current_placement_train_rmse)\n",
    "    placement_val_rmse_list.append(current_placement_val_rmse)\n",
    "    \n",
    "    if current_placement_val_rmse < best_placement_ridge_rmse:\n",
    "        best_placement_ridge_model = Ridge_Model\n",
    "        best_placement_ridge_R_sq = current_placement_R_sq\n",
    "        best_placement_ridge_rmse = current_placement_val_rmse\n",
    "    \n",
    "    Ridge_Model.fit(demographics_train_X,demographics_train_Y)\n",
    "    current_demographics_R_sq = Ridge_Model.score(demographics_train_X,demographics_train_Y)\n",
    "    current_demographics_train_rmse = RMSE(Ridge_Model.predict(demographics_train_X),demographics_train_Y)\n",
    "    current_demographics_val_rmse = RMSE(Ridge_Model.predict(demographics_val_X),demographics_val_Y)\n",
    "    demographics_train_rmse_list.append(current_demographics_train_rmse)\n",
    "    demographics_val_rmse_list.append(current_demographics_val_rmse)\n",
    "    \n",
    "    if current_demographics_val_rmse < best_demographics_ridge_rmse:\n",
    "        best_demographics_ridge_model = Ridge_Model\n",
    "        best_demographics_ridge_R_sq = current_demographics_R_sq\n",
    "        best_demographics_ridge_rmse = current_demographics_val_rmse\n",
    "        \n",
    "lambda_list = [log(x,10) for x in lambda_list]\n",
    "plt.plot(lambda_list,placement_train_rmse_list,label = 'placement train',color = 'red')\n",
    "plt.plot(lambda_list,placement_val_rmse_list,label = 'placement val', color = 'orange')\n",
    "plt.xlabel('Log Lambda values')\n",
    "plt.ylabel('Error Values')\n",
    "plt.title('Trends in training and validation errors for placement data')\n",
    "plt.legend(loc='upper left')\n",
    "plt.show()\n",
    "plt.figure()\n",
    "plt.plot(lambda_list,demographics_train_rmse_list,label = 'demographics train',color = 'red')\n",
    "plt.plot(lambda_list,demographics_val_rmse_list,label = 'demographics val', color = 'orange')\n",
    "plt.xlabel('Log Lambda values')\n",
    "plt.ylabel('Error Values')\n",
    "plt.title('Trends in training and validation errors for demographics data')\n",
    "plt.legend(loc='upper left')\n",
    "plt.show()\n",
    "print('best placement ridge rmse: ' + str(best_placement_ridge_rmse))\n",
    "print('best demographics ridge rmse: ' + str(best_demographics_ridge_rmse))"
   ]
  },
  {
   "cell_type": "code",
   "execution_count": 29,
   "metadata": {},
   "outputs": [
    {
     "data": {
      "text/plain": [
       "Ridge(alpha=10000000, copy_X=True, fit_intercept=True, max_iter=100000,\n",
       "   normalize=False, random_state=None, solver='auto', tol=0.001)"
      ]
     },
     "execution_count": 29,
     "metadata": {},
     "output_type": "execute_result"
    }
   ],
   "source": [
    "best_placement_ridge_model"
   ]
  },
  {
   "cell_type": "code",
   "execution_count": 30,
   "metadata": {},
   "outputs": [
    {
     "data": {
      "image/png": "[encoded data removed]",
      "text/plain": [
       "<Figure size 432x288 with 1 Axes>"
      ]
     },
     "metadata": {},
     "output_type": "display_data"
    },
    {
     "data": {
      "image/png": "[encoded data removed]",
      "text/plain": [
       "<Figure size 432x288 with 1 Axes>"
      ]
     },
     "metadata": {},
     "output_type": "display_data"
    },
    {
     "name": "stdout",
     "output_type": "stream",
     "text": [
      "best placement Elastic Net rmse: 0.7954665786171313\n",
      "best demographics Elastic Net rmse: 4.693500228388826\n"
     ]
    }
   ],
   "source": [
    "'''\n",
    "Test elastic nets\n",
    "'''\n",
    "from sklearn.linear_model import ElasticNet\n",
    "\n",
    "placement_train_rmse_list = []\n",
    "placement_val_rmse_list = []\n",
    "demographics_train_rmse_list = []\n",
    "demographics_val_rmse_list = []\n",
    "\n",
    "lambda_list = [1,10,100,1000,10000,100000,1000000,10000000,100000000,1000000000]\n",
    "l1_ratio_list = [0.1,0.3,0.5,0.7,0.9]\n",
    "\n",
    "best_net_lasso_model = None\n",
    "best_placement_net_R_sq = -float('Inf')\n",
    "best_placement_net_rmse = float('Inf')\n",
    "\n",
    "best_demographics_net_model = None\n",
    "best_demographics_net_R_sq = -float('Inf')\n",
    "best_demographics_net_rmse = float('Inf')\n",
    "\n",
    "for l in lambda_list:\n",
    "    for ratio in l1_ratio_list:\n",
    "        Net_Model = ElasticNet(alpha=l,l1_ratio = ratio,max_iter = 100000)\n",
    "\n",
    "        Net_Model.fit(placement_train_X,placement_train_Y)\n",
    "        current_placement_R_sq = Net_Model.score(placement_train_X,placement_train_Y)\n",
    "        current_placement_train_rmse = RMSE(Net_Model.predict(placement_train_X),placement_train_Y)\n",
    "        current_placement_val_rmse = RMSE(Net_Model.predict(placement_val_X),placement_val_Y)\n",
    "        placement_train_rmse_list.append(current_placement_train_rmse)\n",
    "        placement_val_rmse_list.append(current_placement_val_rmse)\n",
    "\n",
    "        if current_placement_val_rmse < best_placement_net_rmse:\n",
    "            best_placement_net_model = Net_Model\n",
    "            best_placement_net_R_sq = current_placement_R_sq\n",
    "            best_placement_net_rmse = current_placement_val_rmse\n",
    "\n",
    "        Net_Model.fit(demographics_train_X,demographics_train_Y)\n",
    "        current_demographics_R_sq = Net_Model.score(demographics_train_X,demographics_train_Y)\n",
    "        current_demographics_train_rmse = RMSE(Net_Model.predict(demographics_train_X),demographics_train_Y)\n",
    "        current_demographics_val_rmse = RMSE(Net_Model.predict(demographics_val_X),demographics_val_Y)\n",
    "        demographics_train_rmse_list.append(current_demographics_train_rmse)\n",
    "        demographics_val_rmse_list.append(current_demographics_val_rmse)\n",
    "\n",
    "        if current_demographics_val_rmse < best_demographics_net_rmse:\n",
    "            best_demographics_net_model = Net_Model\n",
    "            best_demographics_net_R_sq = current_demographics_R_sq\n",
    "            best_demographics_net_rmse = current_demographics_val_rmse\n",
    "            \n",
    "lambda_list = [log(x,10) for x in lambda_list]\n",
    "plt.plot(list(range(0,len(placement_train_rmse_list))),placement_train_rmse_list,label = 'placement train',color = 'red')\n",
    "plt.plot(list(range(0,len(placement_train_rmse_list))),placement_val_rmse_list,label = 'placement val', color = 'orange')\n",
    "plt.xlabel('Model Number')\n",
    "plt.ylabel('Error Values')\n",
    "plt.title('Trends in training and validation errors for placement data')\n",
    "plt.legend(loc='upper left')\n",
    "plt.show()\n",
    "plt.figure()\n",
    "plt.plot(list(range(0,len(placement_train_rmse_list))),demographics_train_rmse_list,label = 'demographics train',color = 'red')\n",
    "plt.plot(list(range(0,len(placement_train_rmse_list))),demographics_val_rmse_list,label = 'demographics val', color = 'orange')\n",
    "plt.xlabel('Model number')\n",
    "plt.ylabel('Error Values')\n",
    "plt.title('Trends in training and validation errors for demographics data')\n",
    "plt.legend(loc='upper left')\n",
    "plt.show()\n",
    "print('best placement Elastic Net rmse: ' + str(best_placement_net_rmse))\n",
    "print('best demographics Elastic Net rmse: ' + str(best_demographics_net_rmse))"
   ]
  },
  {
   "cell_type": "code",
   "execution_count": 31,
   "metadata": {},
   "outputs": [
    {
     "data": {
      "text/plain": [
       "ElasticNet(alpha=100, copy_X=True, fit_intercept=True, l1_ratio=0.9,\n",
       "      max_iter=100000, normalize=False, positive=False, precompute=False,\n",
       "      random_state=None, selection='cyclic', tol=0.0001, warm_start=False)"
      ]
     },
     "execution_count": 31,
     "metadata": {},
     "output_type": "execute_result"
    }
   ],
   "source": [
    "best_demographics_net_model"
   ]
  },
  {
   "cell_type": "code",
   "execution_count": null,
   "metadata": {},
   "outputs": [],
   "source": [
    "'''\n",
    "Decided against using KNN and Kernel regression as the data is temporal and KNN might use \n",
    "future data to predict past results which doesn't make sense\n",
    "'''"
   ]
  },
  {
   "cell_type": "code",
   "execution_count": null,
   "metadata": {},
   "outputs": [],
   "source": [
    "'''\n",
    "Conclusion:\n",
    "'''\n",
    "\n",
    "'''\n",
    "Elastic net works the best with lambda = 100, l1_ratio = 0.9\n",
    "'''"
   ]
  }
 ],
 "metadata": {
  "kernelspec": {
   "display_name": "Python 3",
   "language": "python",
   "name": "python3"
  },
  "language_info": {
   "codemirror_mode": {
    "name": "ipython",
    "version": 3
   },
   "file_extension": ".py",
   "mimetype": "text/x-python",
   "name": "python",
   "nbconvert_exporter": "python",
   "pygments_lexer": "ipython3",
   "version": "3.6.5"
  }
 },
 "nbformat": 4,
 "nbformat_minor": 2
}
