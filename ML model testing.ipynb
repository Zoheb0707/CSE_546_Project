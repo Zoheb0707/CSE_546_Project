{
 "cells": [
  {
   "cell_type": "code",
   "execution_count": 50,
   "metadata": {},
   "outputs": [],
   "source": [
    "import pandas as pd\n",
    "import warnings\n",
    "warnings.filterwarnings('ignore')"
   ]
  },
  {
   "cell_type": "code",
   "execution_count": 51,
   "metadata": {},
   "outputs": [],
   "source": [
    "demographics_data = pd.read_csv(filepath_or_buffer = 'Data/demographics_data_to_use.csv')\n",
    "placement_data = pd.read_csv(filepath_or_buffer = 'Data/placement_data_to_use.csv')"
   ]
  },
  {
   "cell_type": "code",
   "execution_count": 52,
   "metadata": {},
   "outputs": [],
   "source": [
    "demographics_data.drop(['Ad set name','Date'], axis=1, inplace = True)"
   ]
  },
  {
   "cell_type": "code",
   "execution_count": 53,
   "metadata": {},
   "outputs": [],
   "source": [
    "placement_data.drop(['Ad set name', 'Placement', 'Date'], axis=1, inplace = True)"
   ]
  },
  {
   "cell_type": "code",
   "execution_count": 54,
   "metadata": {},
   "outputs": [],
   "source": [
    "less_placement = list(placement_data.columns)\n",
    "less_placement.remove('Total investment')\n",
    "less_demographics = list(demographics_data.columns)\n",
    "less_demographics.remove('Total investment')\n",
    "\n",
    "placement_without_new_feature = placement_data[less_placement]\n",
    "demographics_without_new_feature = demographics_data[less_demographics]"
   ]
  },
  {
   "cell_type": "code",
   "execution_count": 55,
   "metadata": {},
   "outputs": [],
   "source": [
    "'''\n",
    "Converting age from catagorical to numeric variable\n",
    "'''\n",
    "demographics_data['Age'] = demographics_data['Age'].map({'65+': '65-85','18-24':'18-24',\n",
    "                 '25-34':'25-34','35-44':'35-44','45-54':'45-54','55-64':'55-64',\n",
    "                 '13-17':'13-17'})\n",
    "low = []\n",
    "high = []\n",
    "for i in demographics_data['Age']:\n",
    "    low.append(int(i[0:2]))\n",
    "    high.append(int(i[3:5]))\n",
    "demographics_data['low_age'] = low\n",
    "demographics_data['high_age'] = high\n",
    "demographics_data.drop(['Age'], axis=1, inplace=True)\n",
    "\n",
    "demographics_without_new_feature['Age'] = demographics_without_new_feature['Age'].map({'65+': '65-85','18-24':'18-24',\n",
    "                 '25-34':'25-34','35-44':'35-44','45-54':'45-54','55-64':'55-64',\n",
    "                 '13-17':'13-17'})\n",
    "low = []\n",
    "high = []\n",
    "for i in demographics_without_new_feature['Age']:\n",
    "    low.append(int(i[0:2]))\n",
    "    high.append(int(i[3:5]))\n",
    "demographics_without_new_feature['low_age'] = low\n",
    "demographics_without_new_feature['high_age'] = high\n",
    "demographics_without_new_feature.drop(['Age'], axis=1, inplace=True)"
   ]
  },
  {
   "cell_type": "code",
   "execution_count": 56,
   "metadata": {},
   "outputs": [],
   "source": [
    "'''\n",
    "One hot encoding\n",
    "'''\n",
    "def one_hot(data):\n",
    "    for col_name in data.columns:\n",
    "        if(data[col_name].dtype == 'object'):\n",
    "            one_hot = pd.get_dummies(data[col_name])\n",
    "            data.drop([col_name], axis = 1, inplace = True)\n",
    "            data = data.join(one_hot)\n",
    "    return data\n",
    "\n",
    "placement_without_new_feature = one_hot(placement_without_new_feature)\n",
    "demographics_without_new_feature = one_hot(demographics_without_new_feature)\n",
    "\n",
    "demographics_data = one_hot(demographics_data)\n",
    "placement_data = one_hot(placement_data)"
   ]
  },
  {
   "cell_type": "code",
   "execution_count": 57,
   "metadata": {},
   "outputs": [],
   "source": [
    "'''\n",
    "Splitting data into X,Y\n",
    "'''\n",
    "placement_without_Y = placement_without_new_feature['Return on ad spend (ROAS)']\n",
    "placement_without_X = placement_without_new_feature.drop('Return on ad spend (ROAS)',axis=1)\n",
    "\n",
    "demographics_without_Y = demographics_without_new_feature['Return on ad spend (ROAS)']\n",
    "demographics_without_X = demographics_without_new_feature.drop('Return on ad spend (ROAS)',axis=1)\n",
    "\n",
    "placement_Y = placement_data['Return on ad spend (ROAS)']\n",
    "placement_X = placement_data.drop('Return on ad spend (ROAS)',axis=1)\n",
    "\n",
    "demographics_Y = demographics_data['Return on ad spend (ROAS)']\n",
    "demographics_X = demographics_data.drop('Return on ad spend (ROAS)',axis=1)"
   ]
  },
  {
   "cell_type": "code",
   "execution_count": 58,
   "metadata": {},
   "outputs": [],
   "source": [
    "'''\n",
    "Splitting data into train,val,test\n",
    "'''\n",
    "placement_without_train_X = placement_without_X[:int(len(placement_without_X)*0.7)]\n",
    "placement_without_val_X = placement_without_X[int(len(placement_without_X)*0.7):int(len(placement_without_X)*0.85)]\n",
    "placement_without_test_X = placement_without_X[int(len(placement_without_X)*0.85):]\n",
    "placement_without_train_Y = placement_without_Y[:int(len(placement_without_Y)*0.7)]\n",
    "placement_without_val_Y = placement_without_Y[int(len(placement_without_Y)*0.7):int(len(placement_without_Y)*0.85)]\n",
    "placement_without_test_Y = placement_without_Y[int(len(placement_without_Y)*0.85):]\n",
    "\n",
    "demographics_without_train_X = demographics_without_X[:int(len(demographics_without_X)*0.7)]\n",
    "demographics_without_val_X = demographics_without_X[int(len(demographics_without_X)*0.7):int(len(demographics_without_X)*0.85)]\n",
    "demographics_without_test_X = demographics_without_X[int(len(demographics_without_X)*0.85):]\n",
    "demographics_without_train_Y = demographics_without_Y[:int(len(demographics_without_Y)*0.7)]\n",
    "demographics_without_val_Y = demographics_without_Y[int(len(demographics_without_Y)*0.7):int(len(demographics_without_Y)*0.85)]\n",
    "demographics_without_test_Y = demographics_without_Y[int(len(demographics_without_Y)*0.85):]\n",
    "\n",
    "placement_train_X = placement_X[:int(len(placement_X)*0.7)]\n",
    "placement_val_X = placement_X[int(len(placement_X)*0.7):int(len(placement_X)*0.85)]\n",
    "placement_test_X = placement_X[int(len(placement_X)*0.85):]\n",
    "placement_train_Y = placement_Y[:int(len(placement_Y)*0.7)]\n",
    "placement_val_Y = placement_Y[int(len(placement_Y)*0.7):int(len(placement_Y)*0.85)]\n",
    "placement_test_Y = placement_Y[int(len(placement_Y)*0.85):]\n",
    "\n",
    "demographics_train_X = demographics_X[:int(len(demographics_X)*0.7)]\n",
    "demographics_val_X = demographics_X[int(len(demographics_X)*0.7):int(len(demographics_X)*0.85)]\n",
    "demographics_test_X = demographics_X[int(len(demographics_X)*0.85):]\n",
    "demographics_train_Y = demographics_Y[:int(len(demographics_Y)*0.7)]\n",
    "demographics_val_Y = demographics_Y[int(len(demographics_Y)*0.7):int(len(demographics_Y)*0.85)]\n",
    "demographics_test_Y = demographics_Y[int(len(demographics_Y)*0.85):]"
   ]
  },
  {
   "cell_type": "code",
   "execution_count": null,
   "metadata": {},
   "outputs": [],
   "source": [
    "'''\n",
    "Test lasso regression\n",
    "'''\n"
   ]
  },
  {
   "cell_type": "code",
   "execution_count": null,
   "metadata": {},
   "outputs": [],
   "source": [
    "'''\n",
    "Test ridge regression\n",
    "'''"
   ]
  },
  {
   "cell_type": "code",
   "execution_count": null,
   "metadata": {},
   "outputs": [],
   "source": [
    "'''\n",
    "Test elastic nets\n",
    "'''"
   ]
  },
  {
   "cell_type": "code",
   "execution_count": null,
   "metadata": {},
   "outputs": [],
   "source": [
    "'''\n",
    "Test KNN regression\n",
    "'''"
   ]
  },
  {
   "cell_type": "code",
   "execution_count": null,
   "metadata": {},
   "outputs": [],
   "source": [
    "'''\n",
    "Test Kernel Regression\n",
    "'''"
   ]
  }
 ],
 "metadata": {
  "kernelspec": {
   "display_name": "Python 3",
   "language": "python",
   "name": "python3"
  },
  "language_info": {
   "codemirror_mode": {
    "name": "ipython",
    "version": 3
   },
   "file_extension": ".py",
   "mimetype": "text/x-python",
   "name": "python",
   "nbconvert_exporter": "python",
   "pygments_lexer": "ipython3",
   "version": "3.6.5"
  }
 },
 "nbformat": 4,
 "nbformat_minor": 2
}
