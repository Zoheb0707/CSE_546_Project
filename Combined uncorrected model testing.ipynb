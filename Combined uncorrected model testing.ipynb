{
 "cells": [
  {
   "cell_type": "code",
   "execution_count": 1,
   "metadata": {},
   "outputs": [],
   "source": [
    "import pandas as pd\n",
    "import warnings\n",
    "import matplotlib.pyplot as plt\n",
    "from math import log\n",
    "#warnings.filterwarnings('ignore')"
   ]
  },
  {
   "cell_type": "code",
   "execution_count": 2,
   "metadata": {},
   "outputs": [],
   "source": [
    "train_data = pd.read_csv(filepath_or_buffer = 'Data/combined_data_train.csv')\n",
    "test_data = pd.read_csv(filepath_or_buffer = 'Data/combined_data_test.csv')"
   ]
  },
  {
   "cell_type": "code",
   "execution_count": 3,
   "metadata": {},
   "outputs": [],
   "source": [
    "train_data.drop(['Ad set name','Date'], axis=1, inplace = True)\n",
    "test_data.drop(['Ad set name','Date'], axis=1, inplace = True)"
   ]
  },
  {
   "cell_type": "code",
   "execution_count": 4,
   "metadata": {},
   "outputs": [],
   "source": [
    "'''\n",
    "One hot encoding\n",
    "'''\n",
    "def one_hot(data):\n",
    "    for col_name in data.columns:\n",
    "        if(data[col_name].dtype == 'object'):\n",
    "            one_hot = pd.get_dummies(data[col_name])\n",
    "            data.drop([col_name], axis = 1, inplace = True)\n",
    "            data = data.join(one_hot)\n",
    "    return data\n",
    "\n",
    "train_data = one_hot(train_data)\n",
    "test_data = one_hot(test_data)"
   ]
  },
  {
   "cell_type": "code",
   "execution_count": 5,
   "metadata": {},
   "outputs": [],
   "source": [
    "'''\n",
    "train, validation split\n",
    "'''\n",
    "train_data = train_data[int(len(train_data)*0.7):]\n",
    "val_data = train_data[:int(len(train_data)*0.7)]"
   ]
  },
  {
   "cell_type": "code",
   "execution_count": 6,
   "metadata": {},
   "outputs": [],
   "source": [
    "train_data_Y = train_data['Return on ad spend (ROAS)']\n",
    "train_data_X = train_data.drop('Return on ad spend (ROAS)', axis=1)\n",
    "\n",
    "val_data_Y = val_data['Return on ad spend (ROAS)']\n",
    "val_data_X = val_data.drop('Return on ad spend (ROAS)', axis=1)\n",
    "\n",
    "test_data_Y = test_data['Return on ad spend (ROAS)']\n",
    "test_data_X = test_data.drop('Return on ad spend (ROAS)', axis=1)"
   ]
  },
  {
   "cell_type": "code",
   "execution_count": 7,
   "metadata": {},
   "outputs": [],
   "source": [
    "'''\n",
    "Finds RMSE\n",
    "'''\n",
    "def RMSE(y_predicted,y):\n",
    "    n = len(y_predicted)\n",
    "    diff = [m - n for m,n in zip(y_predicted,y)]\n",
    "    diff = [x**2 for x in diff]\n",
    "    diff = sum(diff)\n",
    "    diff = diff/n\n",
    "    diff = diff**0.5\n",
    "    return diff"
   ]
  },
  {
   "cell_type": "code",
   "execution_count": 8,
   "metadata": {},
   "outputs": [],
   "source": [
    "from sklearn.linear_model import ElasticNet\n",
    "from sklearn.linear_model import Ridge\n",
    "from sklearn.linear_model import Lasso"
   ]
  },
  {
   "cell_type": "code",
   "execution_count": 9,
   "metadata": {},
   "outputs": [
    {
     "name": "stderr",
     "output_type": "stream",
     "text": [
      "C:\\Users\\zhs07\\Anaconda3\\lib\\site-packages\\sklearn\\linear_model\\coordinate_descent.py:491: ConvergenceWarning: Objective did not converge. You might want to increase the number of iterations. Fitting data with very small alpha may cause precision problems.\n",
      "  ConvergenceWarning)\n"
     ]
    },
    {
     "data": {
      "image/png": "[encoded data removed]",
      "text/plain": [
       "<Figure size 432x288 with 1 Axes>"
      ]
     },
     "metadata": {},
     "output_type": "display_data"
    },
    {
     "name": "stdout",
     "output_type": "stream",
     "text": [
      "best lasso rmse: 1195.3631417738889\n"
     ]
    }
   ],
   "source": [
    "'''\n",
    "Testing lasso regression\n",
    "'''\n",
    "\n",
    "best_lasso_model = None\n",
    "best_lasso_rmse = float('Inf')\n",
    "\n",
    "train_rmse_list = []\n",
    "val_rmse_list = []\n",
    "\n",
    "lambda_list = [0.000001,0.00001,0.0001,0.001,0.01,0.1,1,10,100,1000,10000,100000,1000000,10000000,100000000,1000000000,10000000000,\n",
    "               100000000000,1000000000000,10000000000000]\n",
    "\n",
    "for l in lambda_list:\n",
    "    Lasso_Model = Lasso(alpha = l, max_iter = 1000000)\n",
    "    Lasso_Model.fit(train_data_X, train_data_Y)\n",
    "    current_val_rmse = RMSE(Lasso_Model.predict(val_data_X),val_data_Y)\n",
    "    current_train_rmse = RMSE(Lasso_Model.predict(train_data_X),train_data_Y)\n",
    "    val_rmse_list.append(current_val_rmse)\n",
    "    train_rmse_list.append(current_train_rmse)\n",
    "    \n",
    "    if current_val_rmse < best_lasso_rmse:\n",
    "        best_lasso_rmse = current_val_rmse\n",
    "        best_lasso_model = Lasso_Model\n",
    "\n",
    "lambda_list = [log(x,10) for x in lambda_list]\n",
    "plt.plot(list(range(len(train_rmse_list))),train_rmse_list,label = 'train',color = 'red')\n",
    "plt.plot(list(range(len(train_rmse_list))),val_rmse_list,label = 'val', color = 'orange')\n",
    "plt.xlabel('Model Number')\n",
    "plt.ylabel('Error Values')\n",
    "plt.title('Trends in training and validation errors')\n",
    "plt.legend(loc='upper left')\n",
    "plt.show()\n",
    "print('best lasso rmse: ' + str(best_lasso_rmse))"
   ]
  },
  {
   "cell_type": "code",
   "execution_count": 10,
   "metadata": {},
   "outputs": [
    {
     "data": {
      "image/png": "[encoded data removed]",
      "text/plain": [
       "<Figure size 432x288 with 1 Axes>"
      ]
     },
     "metadata": {},
     "output_type": "display_data"
    },
    {
     "name": "stdout",
     "output_type": "stream",
     "text": [
      "best lasso rmse: 1195.3631417338358\n"
     ]
    }
   ],
   "source": [
    "'''\n",
    "Testing ridge regression\n",
    "'''\n",
    "\n",
    "best_ridge_model = None\n",
    "best_ridge_rmse = float('Inf')\n",
    "\n",
    "train_rmse_list = []\n",
    "val_rmse_list = []\n",
    "\n",
    "lambda_list = [0.000001,0.00001,0.0001,0.001,0.01,0.1,1,10,100,1000,10000,100000,1000000,10000000,100000000,1000000000,10000000000,\n",
    "               100000000000,1000000000000,10000000000000]\n",
    "\n",
    "for l in lambda_list:\n",
    "    Ridge_Model = Ridge(alpha = l, max_iter = 100000)\n",
    "    Ridge_Model.fit(train_data_X, train_data_Y)\n",
    "    current_val_rmse = RMSE(Ridge_Model.predict(val_data_X),val_data_Y)\n",
    "    current_train_rmse = RMSE(Ridge_Model.predict(train_data_X),train_data_Y)\n",
    "    val_rmse_list.append(current_val_rmse)\n",
    "    train_rmse_list.append(current_train_rmse)\n",
    "    \n",
    "    if current_val_rmse < best_ridge_rmse:\n",
    "        best_ridge_rmse = current_val_rmse\n",
    "        best_ridge_model = Ridge_Model\n",
    "\n",
    "lambda_list = [log(x,10) for x in lambda_list]\n",
    "plt.plot(list(range(len(train_rmse_list))),train_rmse_list,label = 'train',color = 'red')\n",
    "plt.plot(list(range(len(train_rmse_list))),val_rmse_list,label = 'val', color = 'orange')\n",
    "plt.xlabel('Model Number')\n",
    "plt.ylabel('Error Values')\n",
    "plt.title('Trends in training and validation errors')\n",
    "plt.legend(loc='upper left')\n",
    "plt.show()\n",
    "print('best ridge rmse: ' + str(best_ridge_rmse))"
   ]
  },
  {
   "cell_type": "code",
   "execution_count": 11,
   "metadata": {},
   "outputs": [
    {
     "data": {
      "image/png": "[encoded data removed]",
      "text/plain": [
       "<Figure size 432x288 with 1 Axes>"
      ]
     },
     "metadata": {},
     "output_type": "display_data"
    },
    {
     "name": "stdout",
     "output_type": "stream",
     "text": [
      "best lasso rmse: 1195.3631831681703\n"
     ]
    }
   ],
   "source": [
    "'''\n",
    "Testing elastic net regression\n",
    "'''\n",
    "\n",
    "best_net_model = None\n",
    "best_net_rmse = float('Inf')\n",
    "\n",
    "train_rmse_list = []\n",
    "val_rmse_list = []\n",
    "\n",
    "lambda_list = [0.000001,0.00001,0.0001,0.001,0.01,0.1,1,10,100,1000,10000,100000,1000000,10000000,100000000,1000000000,10000000000,\n",
    "               100000000000,1000000000000,10000000000000]\n",
    "l1_ratio_list = [0.1,0.3,0.5,0.7,0.9]\n",
    "\n",
    "for l in lambda_list:\n",
    "    for ratio in l1_ratio_list:\n",
    "        Net_Model = ElasticNet(alpha = l, max_iter = 1000000)\n",
    "        Net_Model.fit(train_data_X, train_data_Y)\n",
    "        current_val_rmse = RMSE(Net_Model.predict(val_data_X),val_data_Y)\n",
    "        current_train_rmse = RMSE(Net_Model.predict(train_data_X),train_data_Y)\n",
    "        val_rmse_list.append(current_val_rmse)\n",
    "        train_rmse_list.append(current_train_rmse)\n",
    "\n",
    "        if current_val_rmse < best_net_rmse:\n",
    "            best_net_rmse = current_val_rmse\n",
    "            best_net_model = Net_Model\n",
    "\n",
    "lambda_list = [log(x,10) for x in lambda_list]\n",
    "plt.plot(list(range(len(train_rmse_list))),train_rmse_list,label = 'train',color = 'red')\n",
    "plt.plot(list(range(len(train_rmse_list))),val_rmse_list,label = 'val', color = 'orange')\n",
    "plt.xlabel('Log Lambda values')\n",
    "plt.ylabel('Error Values')\n",
    "plt.title('Trends in training and validation errors')\n",
    "plt.legend(loc='upper left')\n",
    "plt.show()\n",
    "print('best ridge rmse: ' + str(best_net_rmse))"
   ]
  },
  {
   "cell_type": "code",
   "execution_count": 14,
   "metadata": {},
   "outputs": [
    {
     "data": {
      "text/plain": [
       "8709.212370925454"
      ]
     },
     "execution_count": 14,
     "metadata": {},
     "output_type": "execute_result"
    }
   ],
   "source": [
    "'''\n",
    "Conclusion, Lasso regression is the best one so far.\n",
    "'''\n",
    "best_net_model.fit(train_data_X, train_data_Y)\n",
    "RMSE(best_net_model.predict(test_data_X), test_data_Y)"
   ]
  }
 ],
 "metadata": {
  "kernelspec": {
   "display_name": "Python 3",
   "language": "python",
   "name": "python3"
  },
  "language_info": {
   "codemirror_mode": {
    "name": "ipython",
    "version": 3
   },
   "file_extension": ".py",
   "mimetype": "text/x-python",
   "name": "python",
   "nbconvert_exporter": "python",
   "pygments_lexer": "ipython3",
   "version": "3.6.5"
  }
 },
 "nbformat": 4,
 "nbformat_minor": 2
}
