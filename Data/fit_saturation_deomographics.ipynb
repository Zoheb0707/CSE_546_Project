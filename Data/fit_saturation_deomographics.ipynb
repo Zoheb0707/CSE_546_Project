{
 "cells": [
  {
   "cell_type": "code",
   "execution_count": null,
   "metadata": {},
   "outputs": [],
   "source": [
    "import csv\n",
    "import numpy as np\n",
    "\n",
    "f = open(\"demographics_data_with_total_investment_feature.csv\", newline='')\n",
    "demo_train = open(\"demotrain.csv\", 'w',newline='')\n",
    "demo_test = open(\"demo_test.csv\", 'w',newline='')\n",
    "\n",
    "reader = csv.reader(f)\n",
    "train_writer = csv.writer(demo_train)\n",
    "test_writer = csv.writer(demo_test)\n",
    "\n",
    "for row in reader:\n",
    "    \n",
    "    if row[0] == \"Date\":\n",
    "        train_writer.writerow(row)\n",
    "        test_writer.writerow(row)\n",
    "    else:\n",
    "        \n",
    "        if np.random.rand() < .8:\n",
    "            train_writer.writerow(row)\n",
    "        else:\n",
    "            \n",
    "            test_writer.writerow(row)\n",
    "demo_train.close()\n",
    "demo_test.close()\n",
    "f.close()\n",
    "        "
   ]
  },
  {
   "cell_type": "code",
   "execution_count": null,
   "metadata": {},
   "outputs": [],
   "source": [
    "\n",
    "import csv\n",
    "\n",
    "def make_one_hot_csv(f, name):\n",
    "    reader = csv.reader(f)\n",
    "    reader = csv.reader(x.replace('\\0', '') for x in f)\n",
    "    write_file = open(name, 'w',newline='')\n",
    "    writer = csv.writer(write_file)\n",
    "    campaigns=[]\n",
    "    audiences=[]\n",
    "    genders=[]\n",
    "    ages=[]\n",
    "    countries=[]\n",
    "    labels = [ \"return\",\"total investment\"]\n",
    "    for row in reader:\n",
    "        \n",
    "        if row[3] != 'Age':\n",
    "            if not row[1] in campaigns:\n",
    "                campaigns.append(row[1])\n",
    "                \n",
    "            if not row[3] in ages:\n",
    "                ages.append(row[3])\n",
    "                \n",
    "            if not row[4] in genders:\n",
    "                genders.append(row[4])\n",
    "                \n",
    "            if not row[7] in countries:\n",
    "                countries.append(row[7])\n",
    "                \n",
    "            if not row[8] in audiences:\n",
    "                audiences.append(row[8])\n",
    "                \n",
    "    \n",
    "    reader = csv.reader(x.replace('\\0', '') for x in f)\n",
    "    f.seek(0)\n",
    "    for campaign in campaigns:\n",
    "        labels.append(campaign)\n",
    "    for age in ages:\n",
    "        labels.append(age)\n",
    "    for gender in genders:\n",
    "        labels.append(gender)\n",
    "    for country in countries:\n",
    "        labels.append(country)\n",
    "    for audience in audiences:\n",
    "        labels.append(audience)\n",
    "    writer.writerow(labels)\n",
    "    for row in reader:\n",
    "        \n",
    "        if row[6] != '' and row[0]!= \"Date\" :\n",
    "            one_hot = []\n",
    "            one_hot.append(float(row[6]))\n",
    "            one_hot.append(float(row[9]))\n",
    "            for campaign in campaigns:\n",
    "                if row[1] == campaign:\n",
    "                    one_hot.append(1)\n",
    "                else:\n",
    "                    one_hot.append(0)\n",
    "            for age in ages:\n",
    "                if row[3] == age:\n",
    "                    one_hot.append(1)\n",
    "                else:\n",
    "                    one_hot.append(0)\n",
    "            for gender in genders:\n",
    "                if row[4] == gender:\n",
    "                    \n",
    "                    one_hot.append(1)\n",
    "                else:\n",
    "                    one_hot.append(0)\n",
    "            for country in countries:\n",
    "                \n",
    "                if row[7] == country:\n",
    "                    \n",
    "                    one_hot.append(1)\n",
    "                else:\n",
    "                    one_hot.append(0)\n",
    "            for audience in audiences:\n",
    "                if row[8] == audience:\n",
    "                    one_hot.append(1)\n",
    "                else:\n",
    "                    one_hot.append(0)\n",
    "            \n",
    "            writer.writerow(one_hot)\n",
    "                \n",
    "    write_file.close()\n",
    "   \n",
    "demo_train = open(\"demo_train.csv\",newline='')\n",
    "demo_test = open(\"demo_test.csv\",newline='')\n",
    "make_one_hot_csv(demo_train, \"demo_one_hot_train.csv\")\n",
    "make_one_hot_csv(demo_test, \"demo_one_hot_test.csv\")"
   ]
  },
  {
   "cell_type": "code",
   "execution_count": 253,
   "metadata": {},
   "outputs": [],
   "source": [
    "import numpy as np\n",
    "from sklearn.linear_model import Ridge\n",
    "from sklearn.linear_model import Lasso\n",
    "from sklearn.linear_model import LinearRegression\n",
    "from sklearn.linear_model import HuberRegressor\n",
    "from sklearn.kernel_ridge import KernelRidge\n",
    "import cvxpy as cp\n",
    "from cvxpy.atoms.affine.binary_operators import MulExpression\n",
    "import csv\n",
    "\n",
    "from matplotlib import pyplot as plt\n",
    "\n",
    "f = open(\"demo_one_hot_train.csv\", newline='')\n",
    "reader = csv.reader(f)\n",
    "x_learn=[]\n",
    "y_learn=[]\n",
    "t_learn=[]\n",
    "\n",
    "for row in reader:\n",
    "    x_vals=[]\n",
    "    if row[1] != \"total investment\":\n",
    "        \n",
    "        for val in row[2:]:\n",
    "            x_vals.append(float(val))\n",
    "        if float(row[0])>0:\n",
    "            t_learn.append(float(row[1]))\n",
    "            x_learn.append(x_vals)\n",
    "            y_learn.append(np.log(float(row[0])))\n",
    "    else:\n",
    "        features=row[2:]\n",
    "        \n",
    "x_learn=np.array(x_learn)\n",
    "t_learn_vec=np.array(t_learn)\n",
    "t_learn=np.diag(t_learn)\n",
    "y_learn=np.array(y_learn)\n",
    "features=np.array(features)\n",
    "\n",
    "f.close()\n",
    "\n",
    "x_train = x_learn[splt[0:int(0.8*len(y_learn))]]\n",
    "t_train = np.diag(t_learn_vec[splt[0:int(0.8*len(y_learn))]])\n",
    "y_train = y_learn[splt[0:int(0.8*len(y_learn))]]\n",
    "\n",
    "x_val = x_learn[splt[int(0.8*len(y_learn)):]]\n",
    "t_val = np.diag(t_learn_vec[splt[int(0.8*len(y_learn)):]])\n",
    "y_val = y_learn[splt[int(0.8*len(y_learn)):]]\n"
   ]
  },
  {
   "cell_type": "code",
   "execution_count": 232,
   "metadata": {},
   "outputs": [
    {
     "data": {
      "image/png": "[encoded data removed]",
      "text/plain": [
       "<Figure size 432x288 with 1 Axes>"
      ]
     },
     "metadata": {},
     "output_type": "display_data"
    },
    {
     "data": {
      "text/plain": [
       "[<matplotlib.lines.Line2D at 0x2a62ebd2a90>]"
      ]
     },
     "execution_count": 232,
     "metadata": {},
     "output_type": "execute_result"
    },
    {
     "data": {
      "image/png": "[encoded data removed]",
      "text/plain": [
       "<Figure size 432x288 with 1 Axes>"
      ]
     },
     "metadata": {},
     "output_type": "display_data"
    }
   ],
   "source": [
    "\n",
    "x_plot=[]\n",
    "y_plot=[]\n",
    "for i in range(1000):\n",
    "    y_vals=[]\n",
    "    \n",
    "    for j in range(len(t_learn_vec)):\n",
    "         \n",
    "        if np.abs(i-t_learn_vec[j])<20:\n",
    "            y_vals.append(y_learn[j])\n",
    "    if len(y_vals)>1:\n",
    "        x_plot.append(i)\n",
    "        y_plot.append(np.mean(y_vals))\n",
    "\n",
    "plt.plot(x_plot,y_plot,'*')\n",
    "plt.show()\n",
    "plt.plot(t_learn_vec,y_learn,'*')"
   ]
  },
  {
   "cell_type": "code",
   "execution_count": 402,
   "metadata": {},
   "outputs": [
    {
     "name": "stdout",
     "output_type": "stream",
     "text": [
      "Mean squared error\n",
      "1.529512151681477\n"
     ]
    }
   ],
   "source": [
    "#Constant\n",
    "def TPW(t,p,w):\n",
    "    return MulExpression(t,MulExpression(p,w))\n",
    "def lin_model_MSE(t,y,w,b):\n",
    "    return np.mean((np.dot(t,w)+b-y)**2)\n",
    "\n",
    "w = cp.Variable(1)\n",
    "b= cp.Variable(1)\n",
    "\n",
    "objective = cp.Minimize(cp.sum_squares(y_train-b))\n",
    "\n",
    "prob = cp.Problem(objective)\n",
    "prob.solve()\n",
    "w=np.array(w.value)\n",
    "b=np.array(b.value)\n",
    "\n",
    "print(\"Mean squared error\")\n",
    "print(np.mean((y_val-b)**2))"
   ]
  },
  {
   "cell_type": "code",
   "execution_count": 404,
   "metadata": {},
   "outputs": [
    {
     "name": "stdout",
     "output_type": "stream",
     "text": [
      "Mean squared error\n",
      "1.6089234945572903\n"
     ]
    }
   ],
   "source": [
    "#LINEAR REGRESION with  total investment\n",
    "def TPW(t,p,w):\n",
    "    return MulExpression(t,MulExpression(p,w))\n",
    "def lin_model_MSE(t,y,w,b):\n",
    "    return np.mean((np.dot(t,w)+b-y)**2)\n",
    "\n",
    "w = cp.Variable(1)\n",
    "b= cp.Variable(1)\n",
    "\n",
    "objective = cp.Minimize(cp.sum_squares(y_train-MulExpression(np.diag(t_train),w)-b))\n",
    "\n",
    "prob = cp.Problem(objective)\n",
    "prob.solve()\n",
    "w=np.array(w.value)\n",
    "b=np.array(b.value)\n",
    "\n",
    "print(\"Mean squared error\")\n",
    "print(lin_model_MSE(t_val,y_val,w,b))"
   ]
  },
  {
   "cell_type": "code",
   "execution_count": 405,
   "metadata": {},
   "outputs": [
    {
     "name": "stdout",
     "output_type": "stream",
     "text": [
      "Mean squared error\n",
      "2.170907699077898\n"
     ]
    }
   ],
   "source": [
    "#LINEAR REGRESION with poplulations and total investment\n",
    "def TPW(t,p,w):\n",
    "    return MulExpression(t,MulExpression(p,w))\n",
    "def full_lin_model_MSE(x,t,y,w,b,inspt):\n",
    "    return np.mean((np.dot(t,np.dot(x,w))+np.dot(x,b)+inspt-y)**2)\n",
    "n=np.shape(x_learn)[1]\n",
    "w = cp.Variable(n)\n",
    "b= cp.Variable(n)\n",
    "inspt = cp.Variable(1)\n",
    "objective = cp.Minimize(cp.sum_squares(y_train-TPW(t_train, x_train, w)-MulExpression(x_train,b)-inspt))\n",
    "\n",
    "prob = cp.Problem(objective)\n",
    "prob.solve()\n",
    "w=np.array(w.value)[:,0]\n",
    "b=np.array(b.value)[:,0]\n",
    "inspt = inspt.value\n",
    "print(\"Mean squared error\")\n",
    "print(full_lin_model_MSE(x_val,t_val,y_val,w,b,inspt))"
   ]
  },
  {
   "cell_type": "code",
   "execution_count": 406,
   "metadata": {},
   "outputs": [
    {
     "name": "stdout",
     "output_type": "stream",
     "text": [
      "978.0186282659467\n",
      "496.93282946456486\n",
      "Mean squared error\n",
      "1.5194678099640402\n"
     ]
    }
   ],
   "source": [
    "\n",
    "#RIDGE REGRESION with poplulations and total investment\n",
    "def TPW(t,p,w):\n",
    "    return MulExpression(t,MulExpression(p,w))\n",
    "def full_lin_model_MSE(x,t,y,w,slp,b,inspt):\n",
    "    return np.mean((np.dot(t,np.dot(x,w))+np.diag(t)*slp+np.dot(x,b)+inspt-y)**2)\n",
    "n=np.shape(x_learn)[1]\n",
    "w = cp.Variable(n)\n",
    "b= cp.Variable(n)\n",
    "insp=cp.Variable(1)\n",
    "slpt=cp.Variable(1)\n",
    "\n",
    "\n",
    "best_err = -1\n",
    "best_lam1 = 0\n",
    "best_lam2 = 0\n",
    "for i in range(100):\n",
    "    lam1 = 1000*np.random.rand()\n",
    "    lam2 = 1000*np.random.rand()\n",
    "    objective = cp.Minimize(cp.sum_squares(y_train-TPW(t_train, x_train, w)-slp*np.diag(t_train)-MulExpression(x_train,b)-insp)\n",
    "                            +lam1*cp.norm(w, p=2)+lam2*cp.norm(b, p=2))\n",
    "\n",
    "    prob = cp.Problem(objective)\n",
    "    prob.solve()\n",
    "    w_ar=np.array(w.value)[:,0]\n",
    "    b_ar=np.array(b.value)[:,0]\n",
    "    err=full_lin_model_MSE(x_val,t_val,y_val,w_ar,slp.value,b_ar,insp.value)\n",
    "    if err < best_err or best_err < 0:\n",
    "        best_lam1 = lam1\n",
    "        best_lam2 = lam2\n",
    "        best_err = err\n",
    "\n",
    "\n",
    "print(best_lam1)\n",
    "print(best_lam2)\n",
    "print(\"Mean squared error\")\n",
    "print(best_err)\n"
   ]
  },
  {
   "cell_type": "code",
   "execution_count": 389,
   "metadata": {},
   "outputs": [
    {
     "name": "stdout",
     "output_type": "stream",
     "text": [
      "894.5845566991972\n",
      "746.9766275267542\n",
      "962.2014375550543\n",
      "448.32946443314694\n",
      "Mean squared error\n",
      "1.2116072734637595\n"
     ]
    }
   ],
   "source": [
    "\n",
    "#ELASTIC NET with poplulations and total investment\n",
    "def TPW(t,p,w):\n",
    "    return MulExpression(t,MulExpression(p,w))\n",
    "def full_lin_model_MSE(x,t,y,w,slp,b,inspt):\n",
    "    return np.mean((np.dot(t,np.dot(x,w))+np.diag(t)*slp+np.dot(x,b)+inspt-y)**2)\n",
    "n=np.shape(x_learn)[1]\n",
    "w = cp.Variable(n)\n",
    "b= cp.Variable(n)\n",
    "insp=cp.Variable(1)\n",
    "slpt=cp.Variable(1)\n",
    "\n",
    "\n",
    "\n",
    "best_err = -1\n",
    "best_lam1 = 0\n",
    "best_lam2 = 0\n",
    "best_lam3 = 0\n",
    "best_lam4 = 0\n",
    "for i in range(100):\n",
    "    lam1 = 1000*np.random.rand()\n",
    "    lam2 = 1000*np.random.rand()\n",
    "    lam3 = 1000*np.random.rand()\n",
    "    lam4 = 1000*np.random.rand()\n",
    "    objective = cp.Minimize(cp.sum_squares(y_train-TPW(t_train, x_train, w)-slp*np.diag(t_train)-MulExpression(x_train,b)-insp)\n",
    "                        +lam1*cp.norm(w, p=2)+lam2*cp.norm(b, p=2)+lam3*cp.norm(w, p=1)+lam4*cp.norm(b, p=1))\n",
    "\n",
    "    prob = cp.Problem(objective)\n",
    "    prob.solve()\n",
    "    w_ar=np.array(w.value)[:,0]\n",
    "    b_ar=np.array(b.value)[:,0]\n",
    "    err=full_lin_model_MSE(x_val,t_val,y_val,w_ar,slp.value,b_ar,insp.value)\n",
    "    if err < best_err or best_err < 0:\n",
    "        best_lam1 = lam1\n",
    "        best_lam2 = lam2\n",
    "        best_lam3 = lam3\n",
    "        best_lam4 = lam4\n",
    "        best_err = err\n",
    "\n",
    "print(best_lam1)\n",
    "print(best_lam2)\n",
    "print(best_lam3)\n",
    "print(best_lam4)\n",
    "print(\"Mean squared error\")\n",
    "print(full_lin_model_MSE(x_val,t_val,y_val,w,slp.value,b,insp.value))\n"
   ]
  },
  {
   "cell_type": "code",
   "execution_count": 424,
   "metadata": {},
   "outputs": [
    {
     "name": "stdout",
     "output_type": "stream",
     "text": [
      "977.1490293149491\n",
      "944.836915654647\n",
      "Mean squared error\n",
      "1.481747331029226\n"
     ]
    }
   ],
   "source": [
    "\n",
    "#LASSO REGRESION with poplulations and total investment\n",
    "def TPW(t,p,w):\n",
    "    return MulExpression(t,MulExpression(p,w))\n",
    "def full_lin_model_MSE(x,t,y,w,slp,b,inspt):\n",
    "    return np.mean((np.dot(t,np.dot(x,w))+np.diag(t)*slp+np.dot(x,b)+inspt-y)**2)\n",
    "\n",
    "n=np.shape(x_train)[1]\n",
    "w = cp.Variable(n)\n",
    "b= cp.Variable(n)\n",
    "insp=cp.Variable(1)\n",
    "slp=cp.Variable(1)\n",
    "\n",
    "splt = np.array(range(len(y_learn)))\n",
    "np.random.shuffle(splt)\n",
    "\n",
    "\n",
    "best_err = -1\n",
    "best_lam1 = 0\n",
    "best_lam2 = 0\n",
    "for i in range(100):\n",
    "   \n",
    "    lam1 = 1000*np.random.rand()\n",
    "    lam2 = 1000*np.random.rand()\n",
    "    \n",
    "    w = cp.Variable(n)\n",
    "    b= cp.Variable(n)\n",
    "    insp=cp.Variable(1)\n",
    "    objective = cp.Minimize(cp.sum_squares(y_train-TPW(t_train, x_train, w)-slp*np.diag(t_train)-MulExpression(x_train,b)-insp)\n",
    "                            +lam1*cp.norm(w, p=1)+lam2*cp.norm(b, p=1))\n",
    "\n",
    "    prob = cp.Problem(objective)\n",
    "    prob.solve()\n",
    "    w_ar=np.array(w.value)[:,0]\n",
    "    b_ar=np.array(b.value)[:,0]\n",
    "    err=full_lin_model_MSE(x_val,t_val,y_val,w_ar,slp.value,b_ar,insp.value)\n",
    "    \n",
    "    if err < best_err or best_err < 0:\n",
    "        best_lam1 = lam1\n",
    "        best_lam2 = lam2\n",
    "        best_err = err\n",
    "\n",
    "print(best_lam1)\n",
    "print(best_lam2)\n",
    "print(\"Mean squared error\")\n",
    "print(best_err)\n"
   ]
  },
  {
   "cell_type": "code",
   "execution_count": 422,
   "metadata": {},
   "outputs": [
    {
     "data": {
      "text/plain": [
       "469.8769731971075"
      ]
     },
     "execution_count": 422,
     "metadata": {},
     "output_type": "execute_result"
    }
   ],
   "source": [
    "lam1=997.3378875385963\n",
    "lam2=871.9914927586395\n",
    "n=np.shape(x_train)[1]\n",
    "w = cp.Variable(n)\n",
    "b= cp.Variable(n)\n",
    "insp=cp.Variable(1)\n",
    "slp=cp.Variable(1)\n",
    "objective = cp.Minimize(cp.sum_squares(y_train-TPW(t_train, x_train, w)-slp*np.diag(t_train)-MulExpression(x_train,b)-insp)\n",
    "                            +lam1*cp.norm(w, p=1)+lam2*cp.norm(b, p=1))\n",
    "\n",
    "prob = cp.Problem(objective)\n",
    "prob.solve()"
   ]
  },
  {
   "cell_type": "code",
   "execution_count": 425,
   "metadata": {},
   "outputs": [
    {
     "name": "stdout",
     "output_type": "stream",
     "text": [
      "[ True False False False  True False  True  True False  True  True False\n",
      " False  True False False False  True False False False  True False False\n",
      " False  True  True  True False  True  True False False  True False  True\n",
      "  True  True False  True  True  True  True  True  True  True False  True\n",
      "  True  True  True  True  True]\n",
      "[False False False False False False False False False False False False\n",
      " False False False False False False False False False False False False\n",
      " False False False False False False False False False False False False\n",
      " False False False False False False False False False False False False\n",
      " False False False False False]\n",
      "['US_RCH_Campers_LeadGen', 'US_RCH_Outdoor_LeadGen', '18-24', '25-34', '45-54', '55-64', 'male', 'CA', 'Outdoor Activists', 'Lookalike (CA, 2%) - rainfactoryS71C', 'Lookalike (GB, 2%) - rainfactoryP22C', 'Lookalike (GB, 2%) - rainfactoryS71C', 'Lookalike (US, 2%) - rainfactoryP22C', 'Lookalike (US, 2%) - rainfactoryS71C', 'Adventure Travel + CF Early Tech + Non Parent *1.6M', \"Cabela's + CF Early Tech + Parent *450K\", 'Ecotourism + CF Early Tech + Non Parent *840K', 'Ecotourism + CF Early Tech + Parent *224K', 'Hiking Backpacking + CF Early Tech + Parent *1.4M', 'Hunting + CF Early Tech + Non Parent *4.7M', 'Hunting + CF Early Tech + Parent *1.5M', 'Mountain Biking + CF Early Tech + Non Parent *2.7M', 'Mountain Biking + CF Early Tech + Parent *590K', 'Nature + CF Early Tech + Non Parent *4.7M', 'Off-Grid/Survival + CF Early Tech + Non Parent *940M', 'Outdoor Fashion Brands + CF Early Tech + Parent *330K', \"REI/Dick's + CF Early Tech + Non Parent *1.4M\", \"REI/Dick's + CF Early Tech + Parent *580K\", 'Ecotourism + CF Early Tech + Non Parent *840K - Dynamic Ad', 'Beachgoers + Parents w/ Young/Teenage Kids + Tech Adopters/Crowdfunding', 'Beachgoers + Parents w/ Young/Teenage Kids + Tech Adopters/Crowdfunding - Copy']\n",
      "[]\n"
     ]
    }
   ],
   "source": [
    "w_feature_filter=np.abs(np.array(w.value)[:,0])>10**-7\n",
    "b_feature_filter=np.abs(np.array(b.value)[:,0])>10**-7\n",
    "\n",
    "w_filtered_features = [features[i] for i in range(len(features)) if w_feature_filter[i]]\n",
    "b_filtered_features = [features[i] for i in range(len(features)) if b_feature_filter[i]]\n",
    "print(w_feature_filter)\n",
    "print(b_feature_filter)\n",
    "print(w_filtered_features)\n",
    "print(b_filtered_features)"
   ]
  },
  {
   "cell_type": "code",
   "execution_count": 475,
   "metadata": {},
   "outputs": [
    {
     "name": "stdout",
     "output_type": "stream",
     "text": [
      "602.6898034731454\n",
      "9.088026481625654\n",
      "Mean squared error\n",
      "1.0665453527899522\n"
     ]
    }
   ],
   "source": [
    "w_filtered_x_train = x_train[:,w_feature_filter]\n",
    "w_filtered_x_val = x_val[:,w_feature_filter]\n",
    "\n",
    "b_filtered_x_train = x_train[:,b_feature_filter]\n",
    "b_filtered_x_val = x_val[:,b_feature_filter]\n",
    "\n",
    "#RIDGE REGRESION with poplulations and total investment filtered features\n",
    "def TPW(t,p,w):\n",
    "    return MulExpression(t,MulExpression(p,w))\n",
    "def filtered_lin_model_MSE(w_x,b_x,t,y,w,slp,b,inspt):\n",
    "    return np.mean((np.dot(t,np.dot(w_x,w))+np.diag(t)*slp+np.dot(b_x,b)+inspt-y)**2)\n",
    "n=np.shape(w_filtered_x_learn)[1]\n",
    "m=np.shape(b_filtered_x_learn)[1]\n",
    "w = cp.Variable(n)\n",
    "b= cp.Variable(m)\n",
    "insp=cp.Variable(1)\n",
    "slp = cp.Variable(1)\n",
    "\n",
    "\n",
    "best_err = -1\n",
    "best_lam1 = 0\n",
    "best_lam2 = 0\n",
    "for i in range(100):\n",
    "    lam1 = 1000*np.random.rand()\n",
    "    lam2 = 1000*np.random.rand()\n",
    "    errs=[]\n",
    "        \n",
    "\n",
    "    objective = cp.Minimize(cp.sum_squares(y_train-TPW(t_train, w_x_train, w)-slp*np.diag(t_train)-MulExpression(b_x_train,b)-insp)\n",
    "                            +lam1*cp.norm(w, p=2)+lam2*cp.norm(b, p=2))\n",
    "\n",
    "    prob = cp.Problem(objective)\n",
    "    prob.solve()\n",
    "    w_ar=np.array(w.value)[:,0]\n",
    "    b_ar=np.array(b.value)[:,0]\n",
    "    err=filtered_lin_model_MSE(w_x_val,b_x_val,t_val,y_val,w_ar,slp.value,b_ar,insp.value)\n",
    "    \n",
    "    if err < best_err or best_err < 0:\n",
    "        best_lam1 = lam1\n",
    "        best_lam2 = lam2\n",
    "        best_err = err\n",
    "\n",
    "print(best_lam1)\n",
    "print(best_lam2)\n",
    "print(\"Mean squared error\")\n",
    "print(best_err)\n"
   ]
  },
  {
   "cell_type": "code",
   "execution_count": 418,
   "metadata": {},
   "outputs": [
    {
     "name": "stdout",
     "output_type": "stream",
     "text": [
      "241.07878131343296\n",
      "33.61373276964319\n",
      "280.81467468729807\n",
      "30.28216547897955\n",
      "Mean squared error\n",
      "1.4378589495297258\n"
     ]
    }
   ],
   "source": [
    "w_filtered_x_train = x_train[:,w_feature_filter]\n",
    "w_filtered_x_val = x_val[:,w_feature_filter]\n",
    "\n",
    "b_filtered_x_train = x_train[:,b_feature_filter]\n",
    "b_filtered_x_val = x_val[:,b_feature_filter]\n",
    "\n",
    "#ELASTIC NET  with poplulations and total investment filtereed features\n",
    "def TPW(t,p,w):\n",
    "    return MulExpression(t,MulExpression(p,w))\n",
    "def filtered_lin_model_MSE(w_x,b_x,t,y,w,slp,b,inspt):\n",
    "    return np.mean((np.dot(t,np.dot(w_x,w))+np.diag(t)*slp+np.dot(b_x,b)+inspt-y)**2)\n",
    "n=np.shape(w_filtered_x_learn)[1]\n",
    "m=np.shape(b_filtered_x_learn)[1]\n",
    "w = cp.Variable(n)\n",
    "b= cp.Variable(m)\n",
    "insp=cp.Variable(1)\n",
    "slp = cp.Variable(1)\n",
    "\n",
    "\n",
    "best_err = -1\n",
    "best_lam1 = 0\n",
    "best_lam2 = 0\n",
    "best_lam3 = 0\n",
    "best_lam4 = 0\n",
    "for i in range(100):\n",
    "    \n",
    "    lam1 = 1000*np.random.rand()\n",
    "    lam2 = 1000*np.random.rand()\n",
    "    lam3 = 1000*np.random.rand()\n",
    "    lam4 = 1000*np.random.rand()\n",
    "        \n",
    "\n",
    "    objective = cp.Minimize(cp.sum_squares(y_train-TPW(t_train, w_x_train, w)-slp*np.diag(t_train)-MulExpression(b_x_train,b)-insp)\n",
    "                            +lam1*cp.norm(w, p=2)+lam2*cp.norm(b, p=2)+lam3*cp.norm(w, p=1)+lam4*cp.norm(b, p=1))\n",
    "\n",
    "    prob = cp.Problem(objective)\n",
    "    prob.solve()\n",
    "    w_ar=np.array(w.value)[:,0]\n",
    "    b_ar=np.array(b.value)[:,0]\n",
    "    err=filtered_lin_model_MSE(w_x_val,b_x_val,t_val,y_val,w_ar,slp.value,b_ar,insp.value)\n",
    "    \n",
    "    if err < best_err or best_err < 0:\n",
    "        best_lam1 = lam1\n",
    "        best_lam2 = lam2\n",
    "        best_lam3 = lam3\n",
    "        best_lam4 = lam4\n",
    "        best_err = err\n",
    "\n",
    "print(best_lam1)\n",
    "print(best_lam2)\n",
    "print(best_lam3)\n",
    "print(best_lam4)\n",
    "print(\"Mean squared error\")\n",
    "print(best_err)\n"
   ]
  },
  {
   "cell_type": "markdown",
   "metadata": {},
   "source": [
    "m"
   ]
  },
  {
   "cell_type": "code",
   "execution_count": 415,
   "metadata": {},
   "outputs": [
    {
     "name": "stdout",
     "output_type": "stream",
     "text": [
      "430.68820488571026\n",
      "86.28734992198584\n",
      "688.4221754348541\n",
      "8.149419855741357\n",
      "Mean squared error\n",
      "1.4722142975988246\n"
     ]
    }
   ],
   "source": [
    "w_filtered_x_train = x_train[:,w_feature_filter]\n",
    "w_filtered_x_val = x_val[:,w_feature_filter]\n",
    "\n",
    "b_filtered_x_train = x_train[:,b_feature_filter]\n",
    "b_filtered_x_val = x_val[:,b_feature_filter]\n",
    "\n",
    "#ELASTIC NET  with poplulations and total investment filtereed features huber loss\n",
    "def TPW(t,p,w):\n",
    "    return MulExpression(t,MulExpression(p,w))\n",
    "def filtered_lin_model_MSE(w_x,b_x,t,y,w,slp,b,inspt):\n",
    "    return np.mean((np.dot(t,np.dot(w_x,w))+np.diag(t)*slp+np.dot(b_x,b)+inspt-y)**2)\n",
    "n=np.shape(w_filtered_x_learn)[1]\n",
    "m=np.shape(b_filtered_x_learn)[1]\n",
    "w = cp.Variable(n)\n",
    "b= cp.Variable(m)\n",
    "insp=cp.Variable(1)\n",
    "slp = cp.Variable(1)\n",
    "\n",
    "\n",
    "best_err = -1\n",
    "best_lam1 = 0\n",
    "best_lam2 = 0\n",
    "best_lam3 = 0\n",
    "best_lam4 = 0\n",
    "for i in range(100):\n",
    "    \n",
    "    lam1 = 1000*np.random.rand()\n",
    "    lam2 = 1000*np.random.rand()\n",
    "    lam3 = 1000*np.random.rand()\n",
    "    lam4 = 1000*np.random.rand()\n",
    "        \n",
    "\n",
    "    objective = cp.Minimize(cp.sum_entries(cp.huber(y_train-TPW(t_train, w_x_train, w)-slp*np.diag(t_train)-MulExpression(b_x_train,b)-insp))\n",
    "                            +lam1*cp.norm(w, p=2)+lam2*cp.norm(b, p=2)+lam3*cp.norm(w, p=1)+lam4*cp.norm(b, p=1))\n",
    "\n",
    "    prob = cp.Problem(objective)\n",
    "    prob.solve()\n",
    "    w_ar=np.array(w.value)[:,0]\n",
    "    b_ar=np.array(b.value)[:,0]\n",
    "    err=filtered_lin_model_MSE(w_x_val,b_x_val,t_val,y_val,w_ar,slp.value,b_ar,insp.value)\n",
    "    \n",
    "    if err < best_err or best_err < 0:\n",
    "        best_lam1 = lam1\n",
    "        best_lam2 = lam2\n",
    "        best_lam3 = lam3\n",
    "        best_lam4 = lam4\n",
    "        best_err = err\n",
    "\n",
    "print(best_lam1)\n",
    "print(best_lam2)\n",
    "print(best_lam3)\n",
    "print(best_lam4)\n",
    "print(\"Mean squared error\")\n",
    "print(best_err)\n"
   ]
  },
  {
   "cell_type": "code",
   "execution_count": 416,
   "metadata": {},
   "outputs": [
    {
     "name": "stdout",
     "output_type": "stream",
     "text": [
      "641.1243835753521\n",
      "24.975941983992335\n",
      "564.3342864888491\n",
      "362.71990210839465\n",
      "Mean squared error\n",
      "1.2873477882938023\n"
     ]
    }
   ],
   "source": [
    "w_filtered_x_train = x_train[:,w_feature_filter]\n",
    "w_filtered_x_val = x_val[:,w_feature_filter]\n",
    "\n",
    "b_filtered_x_train = x_train[:,b_feature_filter]\n",
    "b_filtered_x_val = x_val[:,b_feature_filter]\n",
    "\n",
    "#RIDGE REGRESION  with poplulations and total investment filtereed features huber loss\n",
    "def TPW(t,p,w):\n",
    "    return MulExpression(t,MulExpression(p,w))\n",
    "def filtered_lin_model_MSE(w_x,b_x,t,y,w,slp,b,inspt):\n",
    "    return np.mean((np.dot(t,np.dot(w_x,w))+np.diag(t)*slp+np.dot(b_x,b)+inspt-y)**2)\n",
    "n=np.shape(w_filtered_x_learn)[1]\n",
    "m=np.shape(b_filtered_x_learn)[1]\n",
    "w = cp.Variable(n)\n",
    "b= cp.Variable(m)\n",
    "insp=cp.Variable(1)\n",
    "slp = cp.Variable(1)\n",
    "\n",
    "\n",
    "\n",
    "\n",
    "best_err = -1\n",
    "best_lam1 = 0\n",
    "best_lam2 = 0\n",
    "best_lam3 = 0\n",
    "best_lam4 = 0\n",
    "for i in range(100):\n",
    "    \n",
    "    lam1 = 1000*np.random.rand()\n",
    "    lam2 = 1000*np.random.rand()\n",
    "    lam3 = 1000*np.random.rand()\n",
    "    lam4 = 1000*np.random.rand()\n",
    "        \n",
    "\n",
    "    objective = cp.Minimize(cp.sum_entries(cp.huber(y_train-TPW(t_train, w_x_train, w)-slp*np.diag(t_train)-MulExpression(b_x_train,b)-insp))\n",
    "                            +lam1*cp.norm(w, p=2)+lam2*cp.norm(b, p=2))\n",
    "\n",
    "    prob = cp.Problem(objective)\n",
    "    prob.solve()\n",
    "    w_ar=np.array(w.value)[:,0]\n",
    "    b_ar=np.array(b.value)[:,0]\n",
    "    err=filtered_lin_model_MSE(w_x_val,b_x_val,t_val,y_val,w_ar,slp.value,b_ar,insp.value)\n",
    "    \n",
    "    if err < best_err or best_err < 0:\n",
    "        best_lam1 = lam1\n",
    "        best_lam2 = lam2\n",
    "        best_lam3 = lam3\n",
    "        best_lam4 = lam4\n",
    "        best_err = err\n",
    "\n",
    "print(best_lam1)\n",
    "print(best_lam2)\n",
    "print(best_lam3)\n",
    "print(best_lam4)\n",
    "print(\"Mean squared error\")\n",
    "print(best_err)\n"
   ]
  },
  {
   "cell_type": "code",
   "execution_count": 478,
   "metadata": {},
   "outputs": [
    {
     "name": "stdout",
     "output_type": "stream",
     "text": [
      "1.5818005665825918\n"
     ]
    }
   ],
   "source": [
    "def filtered_lin_model_MSE(w_x,t,y,w,slp,inspt):\n",
    "    return np.mean((np.dot(t,np.dot(w_x,w))+np.diag(t)*slp+inspt-y)**2)\n",
    "\n",
    "#The model with the best validation error was the filtered ridge regresion\n",
    "w_fltr=[ True, False, False, False,  True, False,  True,  True, False,  True,  True, False,\n",
    " False,  True, False, False, False,  True, False, False, False,  True, False, False,\n",
    " False,  True,  True,  True, False,  True,  True, False, False,  True, False,  True,\n",
    "  True,  True, False,  True,  True,  True,  True,  True,  True,  True, False,  True,\n",
    "  True,  True,  True,  True,  True,]\n",
    "#all b features were removed by lasso, so it will not be used\n",
    "filtered_features = x_train[:,w_fltr]\n",
    "\n",
    "n=np.shape(filtered_features)[1]\n",
    "\n",
    "w = cp.Variable(n)\n",
    "lam1=602.6898034731454\n",
    "insp=cp.Variable(1)\n",
    "slp = cp.Variable(1)\n",
    "objective = cp.Minimize(cp.sum_squares(y_train-TPW(t_train, filtered_features, w)-slp*np.diag(t_train)-insp)\n",
    "                            +lam1*cp.norm(w, p=2))\n",
    "\n",
    "prob = cp.Problem(objective)\n",
    "prob.solve()\n",
    "w=np.array(w.value)\n",
    "slp=slp.value\n",
    "insp=insp.value\n",
    "\n",
    "print(filtered_lin_model_MSE(x_val[:,w_fltr],t_val,y_val,w,slp,insp))"
   ]
  },
  {
   "cell_type": "code",
   "execution_count": 461,
   "metadata": {},
   "outputs": [
    {
     "ename": "ValueError",
     "evalue": "shapes (11,) and (31,) not aligned: 11 (dim 0) != 31 (dim 0)",
     "output_type": "error",
     "traceback": [
      "\u001b[1;31m---------------------------------------------------------------------------\u001b[0m",
      "\u001b[1;31mValueError\u001b[0m                                Traceback (most recent call last)",
      "\u001b[1;32m<ipython-input-461-8f5a39861658>\u001b[0m in \u001b[0;36m<module>\u001b[1;34m()\u001b[0m\n\u001b[0;32m     20\u001b[0m         \u001b[0mt\u001b[0m\u001b[1;33m=\u001b[0m\u001b[0mfloat\u001b[0m\u001b[1;33m(\u001b[0m\u001b[0mone_hot_row\u001b[0m\u001b[1;33m[\u001b[0m\u001b[1;36m1\u001b[0m\u001b[1;33m]\u001b[0m\u001b[1;33m)\u001b[0m\u001b[1;33m\u001b[0m\u001b[0m\n\u001b[0;32m     21\u001b[0m         \u001b[0mrow_to_write\u001b[0m\u001b[1;33m=\u001b[0m\u001b[0mrow\u001b[0m\u001b[1;33m.\u001b[0m\u001b[0mcopy\u001b[0m\u001b[1;33m(\u001b[0m\u001b[1;33m)\u001b[0m\u001b[1;33m\u001b[0m\u001b[0m\n\u001b[1;32m---> 22\u001b[1;33m         \u001b[0mprint\u001b[0m\u001b[1;33m(\u001b[0m\u001b[0mt\u001b[0m\u001b[1;33m*\u001b[0m\u001b[1;33m(\u001b[0m\u001b[0mnp\u001b[0m\u001b[1;33m.\u001b[0m\u001b[0mdot\u001b[0m\u001b[1;33m(\u001b[0m\u001b[0mw\u001b[0m\u001b[1;33m,\u001b[0m\u001b[0mx\u001b[0m\u001b[1;33m)\u001b[0m\u001b[1;33m+\u001b[0m\u001b[0mslp\u001b[0m\u001b[1;33m)\u001b[0m\u001b[1;33m)\u001b[0m\u001b[1;33m\u001b[0m\u001b[0m\n\u001b[0m\u001b[0;32m     23\u001b[0m         \u001b[0mprint\u001b[0m\u001b[1;33m(\u001b[0m\u001b[0mnp\u001b[0m\u001b[1;33m.\u001b[0m\u001b[0mexp\u001b[0m\u001b[1;33m(\u001b[0m\u001b[0mt\u001b[0m\u001b[1;33m*\u001b[0m\u001b[1;33m(\u001b[0m\u001b[0mnp\u001b[0m\u001b[1;33m.\u001b[0m\u001b[0mdot\u001b[0m\u001b[1;33m(\u001b[0m\u001b[0mw\u001b[0m\u001b[1;33m,\u001b[0m\u001b[0mx\u001b[0m\u001b[1;33m)\u001b[0m\u001b[1;33m+\u001b[0m\u001b[0mslp\u001b[0m\u001b[1;33m)\u001b[0m\u001b[1;33m+\u001b[0m\u001b[0minsp\u001b[0m\u001b[1;33m)\u001b[0m\u001b[1;33m)\u001b[0m\u001b[1;33m\u001b[0m\u001b[0m\n\u001b[0;32m     24\u001b[0m         \u001b[0mrow_to_write\u001b[0m\u001b[1;33m[\u001b[0m\u001b[1;36m6\u001b[0m\u001b[1;33m]\u001b[0m\u001b[1;33m=\u001b[0m\u001b[0mfloat\u001b[0m\u001b[1;33m(\u001b[0m\u001b[0mrow\u001b[0m\u001b[1;33m[\u001b[0m\u001b[1;36m6\u001b[0m\u001b[1;33m]\u001b[0m\u001b[1;33m)\u001b[0m\u001b[1;33m/\u001b[0m\u001b[0mnp\u001b[0m\u001b[1;33m.\u001b[0m\u001b[0mexp\u001b[0m\u001b[1;33m(\u001b[0m\u001b[0mt\u001b[0m\u001b[1;33m*\u001b[0m\u001b[1;33m(\u001b[0m\u001b[0mnp\u001b[0m\u001b[1;33m.\u001b[0m\u001b[0mdot\u001b[0m\u001b[1;33m(\u001b[0m\u001b[0mw\u001b[0m\u001b[1;33m,\u001b[0m\u001b[0mx\u001b[0m\u001b[1;33m)\u001b[0m\u001b[1;33m+\u001b[0m\u001b[0mslp\u001b[0m\u001b[1;33m)\u001b[0m\u001b[1;33m+\u001b[0m\u001b[0minsp\u001b[0m\u001b[1;33m)\u001b[0m\u001b[1;33m\u001b[0m\u001b[0m\n",
      "\u001b[1;31mValueError\u001b[0m: shapes (11,) and (31,) not aligned: 11 (dim 0) != 31 (dim 0)"
     ]
    }
   ],
   "source": [
    "demo_train = open(\"demo_train.csv\", 'r',newline='')\n",
    "demo_test = open(\"demo_test.csv\", 'r',newline='')\n",
    "demo_one_hot_train =open(\"demo_one_hot_train.csv\", 'r',newline='')\n",
    "demo_one_hot_test=open(\"demo_one_hot_test.csv\", 'r',newline='')\n",
    "\n",
    "corrected_demo_train = open(\"corrected_demographics_train.csv\", 'w',newline='')\n",
    "corrected_demo_test = open(\"corrected_demographics_test.csv\", 'w',newline='')\n",
    "\n",
    "reader = csv.reader(demo_train)\n",
    "one_hot_reader = csv.reader(demo_one_hot_train)\n",
    "writer = csv.writer(corrected_demo_train)\n",
    "\n",
    "for row, one_hot_row in zip(reader, one_hot_reader):\n",
    "    x=[]\n",
    "    \n",
    "    if row[0] != \"Date\":\n",
    "        for val in one_hot_row[2:]:\n",
    "            x.append(float(val))\n",
    "        x=np.array(x)[w_fltr]\n",
    "        t=float(one_hot_row[1])\n",
    "        row_to_write=row.copy()\n",
    "        print(t*(np.dot(w,x)+slp))\n",
    "        print(np.exp(t*(np.dot(w,x)+slp)+insp))\n",
    "        row_to_write[6]=float(row[6])/np.exp(t*(np.dot(w,x)+slp)+insp)\n",
    "        writer.writerow(row)\n",
    "demo_train.close()\n",
    "corrected_demo_train.close()\n",
    "demo_one_hot_train.close()\n",
    "\n",
    "reader = csv.reader(demo_test)\n",
    "one_hot_reader = csv.reader(demo_one_hot_test)\n",
    "writer = csv.writer(corrected_demo_test)\n",
    "\n",
    "for row, one_hot_row in zip(reader, one_hot_test):\n",
    "    x=[]\n",
    "    if row[0] != \"Date\":\n",
    "        for val in one_hot_row[2:]:\n",
    "            x.append(float(val))\n",
    "        x=np.array(x)[w_fltr]\n",
    "        t=float(one_hot_row[1])\n",
    "        row[6]=float(row[6])/np.exp(t*(np.dot(w,x)+slp)+insp)\n",
    "        writer.writerow(row)\n",
    "demo_test.close()\n",
    "corrected_demo_test.close()\n",
    "demo_one_hot_test.close()"
   ]
  },
  {
   "cell_type": "code",
   "execution_count": 470,
   "metadata": {},
   "outputs": [
    {
     "data": {
      "text/plain": [
       "(11, 1)"
      ]
     },
     "execution_count": 470,
     "metadata": {},
     "output_type": "execute_result"
    }
   ],
   "source": [
    "np.shape(w)"
   ]
  },
  {
   "cell_type": "code",
   "execution_count": 473,
   "metadata": {},
   "outputs": [
    {
     "data": {
      "text/plain": [
       "497.2920342199895"
      ]
     },
     "execution_count": 473,
     "metadata": {},
     "output_type": "execute_result"
    }
   ],
   "source": [
    "best_lam1"
   ]
  },
  {
   "cell_type": "code",
   "execution_count": null,
   "metadata": {},
   "outputs": [],
   "source": []
  }
 ],
 "metadata": {
  "kernelspec": {
   "display_name": "Python 3",
   "language": "python",
   "name": "python3"
  },
  "language_info": {
   "codemirror_mode": {
    "name": "ipython",
    "version": 3
   },
   "file_extension": ".py",
   "mimetype": "text/x-python",
   "name": "python",
   "nbconvert_exporter": "python",
   "pygments_lexer": "ipython3",
   "version": "3.6.5"
  }
 },
 "nbformat": 4,
 "nbformat_minor": 2
}
