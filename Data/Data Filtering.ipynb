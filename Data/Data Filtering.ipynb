{
 "cells": [
  {
   "cell_type": "code",
   "execution_count": null,
   "metadata": {},
   "outputs": [],
   "source": [
    "'''\n",
    "The purpose of this file is to filter the data provied, extract features and do whatever feature engineering necessary.\n",
    "The altered data is stored in the same location as the original.\n",
    "'''"
   ]
  },
  {
   "cell_type": "code",
   "execution_count": 24,
   "metadata": {},
   "outputs": [],
   "source": [
    "import pandas as pd"
   ]
  },
  {
   "cell_type": "code",
   "execution_count": 25,
   "metadata": {},
   "outputs": [],
   "source": [
    "demographics_data = pd.read_csv(filepath_or_buffer = 'Client_1_Demographics.csv')\n",
    "placement_data = pd.read_csv(filepath_or_buffer = 'Client_1_Placement.csv')"
   ]
  },
  {
   "cell_type": "code",
   "execution_count": 26,
   "metadata": {},
   "outputs": [],
   "source": [
    "demographics_data = demographics_data[['Date', 'Campaign name', 'Ad set name', 'Age', \n",
    "                                       'Gender', 'Amount spent (USD)', 'Return on ad spend (ROAS)']]"
   ]
  },
  {
   "cell_type": "code",
   "execution_count": 27,
   "metadata": {},
   "outputs": [],
   "source": [
    "placement_data = placement_data[['Date', 'Campaign name', 'Ad set name', 'Placement',\n",
    "                                 'Amount spent (USD)', 'Return on ad spend (ROAS)']]"
   ]
  },
  {
   "cell_type": "code",
   "execution_count": 28,
   "metadata": {},
   "outputs": [],
   "source": [
    "demographics_data.dropna(axis=0,how = 'all',inplace = True)\n",
    "placement_data.dropna(axis=0,how = 'all',inplace = True)"
   ]
  },
  {
   "cell_type": "code",
   "execution_count": 29,
   "metadata": {},
   "outputs": [],
   "source": [
    "country_list = []\n",
    "audience_description_list = []\n",
    "\n",
    "platform_list = []\n",
    "placements_list = []\n",
    "device_list = []\n",
    "\n",
    "for i in range(0,len(placement_data)):\n",
    "    \n",
    "    country,useless_1,useless_2,audience_description = placement_data['Ad set name'].iloc[i].split('_')\n",
    "    country_list.append(country)\n",
    "    audience_description_list.append(audience_description)\n",
    "    \n",
    "    platform,placement,device = placement_data['Placement'].iloc[i].split('|')\n",
    "    platform_list.append(platform)\n",
    "    placements_list.append(placement)\n",
    "    device_list.append(device)"
   ]
  },
  {
   "cell_type": "code",
   "execution_count": 30,
   "metadata": {},
   "outputs": [],
   "source": [
    "placement_data['country'] = country_list\n",
    "placement_data['audience description'] = audience_description_list\n",
    "placement_data['platform'] = platform_list\n",
    "placement_data['placements'] = placements_list\n",
    "placement_data['device'] = device_list"
   ]
  },
  {
   "cell_type": "code",
   "execution_count": 31,
   "metadata": {},
   "outputs": [],
   "source": [
    "country_list = []\n",
    "audience_description_list = []\n",
    "\n",
    "for i in range(0,len(demographics_data)):\n",
    "    \n",
    "    country,useless_1,useless_2,audience_description = demographics_data['Ad set name'].iloc[i].split('_')\n",
    "    country_list.append(country)\n",
    "    audience_description_list.append(audience_description)"
   ]
  },
  {
   "cell_type": "code",
   "execution_count": 32,
   "metadata": {},
   "outputs": [],
   "source": [
    "demographics_data['country'] = country_list\n",
    "demographics_data['audience description'] = audience_description_list"
   ]
  },
  {
   "cell_type": "code",
   "execution_count": 33,
   "metadata": {},
   "outputs": [],
   "source": [
    "demographics_data.fillna(value=0,inplace=True)\n",
    "placement_data.fillna(value=0,inplace=True)"
   ]
  },
  {
   "cell_type": "code",
   "execution_count": 35,
   "metadata": {},
   "outputs": [],
   "source": [
    "demographics_data.to_csv(path_or_buf = 'demographics_data_to_use.csv', index=False)\n",
    "placement_data.to_csv(path_or_buf = 'placement_data_to_use.csv', index=False)"
   ]
  }
 ],
 "metadata": {
  "kernelspec": {
   "display_name": "Python 3",
   "language": "python",
   "name": "python3"
  },
  "language_info": {
   "codemirror_mode": {
    "name": "ipython",
    "version": 3
   },
   "file_extension": ".py",
   "mimetype": "text/x-python",
   "name": "python",
   "nbconvert_exporter": "python",
   "pygments_lexer": "ipython3",
   "version": "3.6.5"
  }
 },
 "nbformat": 4,
 "nbformat_minor": 2
}
